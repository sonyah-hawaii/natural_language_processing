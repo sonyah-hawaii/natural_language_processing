{
 "cells": [
  {
   "cell_type": "code",
   "execution_count": 1,
   "metadata": {},
   "outputs": [
    {
     "name": "stderr",
     "output_type": "stream",
     "text": [
      "/anaconda3/envs/dsi/lib/python3.6/importlib/_bootstrap.py:219: RuntimeWarning: numpy.dtype size changed, may indicate binary incompatibility. Expected 96, got 88\n",
      "  return f(*args, **kwds)\n",
      "/anaconda3/envs/dsi/lib/python3.6/importlib/_bootstrap.py:219: RuntimeWarning: numpy.dtype size changed, may indicate binary incompatibility. Expected 96, got 88\n",
      "  return f(*args, **kwds)\n"
     ]
    }
   ],
   "source": [
    "import pandas as pd\n",
    "import numpy as np\n",
    "from sklearn.pipeline import Pipeline\n",
    "from sklearn.model_selection import GridSearchCV\n",
    "from sklearn.linear_model import LogisticRegression\n",
    "from sklearn.cluster import KMeans"
   ]
  },
  {
   "cell_type": "markdown",
   "metadata": {},
   "source": [
    "### Steps of making a pipeline:\n",
    "1. Build a thing\n",
    "2. Build a pipeline of the thing as it's own object\n",
    "- pipe.fit, transform, etc and make sure it works as I want it to\n",
    "3. Once you confirmed it is working paste it into your larger pipeline\n",
    "- each column gets its own *working* pipeline  "
   ]
  },
  {
   "cell_type": "markdown",
   "metadata": {},
   "source": [
    "- extract title column\n",
    "- run count vectorizer\n",
    "- make it dense"
   ]
  },
  {
   "cell_type": "markdown",
   "metadata": {},
   "source": [
    "Yi\n",
    "- k-means\n",
    "- resample\n",
    "\n",
    "title\n",
    "- cvec\n",
    "\n",
    "subreddit_type\n",
    "- LabelBinarizer()"
   ]
  },
  {
   "cell_type": "code",
   "execution_count": 2,
   "metadata": {},
   "outputs": [],
   "source": [
    "from sklearn.cluster import KMeans\n",
    "from sklearn.utils import resample"
   ]
  },
  {
   "cell_type": "code",
   "execution_count": 3,
   "metadata": {},
   "outputs": [
    {
     "ename": "NameError",
     "evalue": "name 'StratifiedKFold' is not defined",
     "output_type": "error",
     "traceback": [
      "\u001b[0;31m---------------------------------------------------------------------------\u001b[0m",
      "\u001b[0;31mNameError\u001b[0m                                 Traceback (most recent call last)",
      "\u001b[0;32m<ipython-input-3-e800d016cb6e>\u001b[0m in \u001b[0;36m<module>\u001b[0;34m()\u001b[0m\n\u001b[0;32m----> 1\u001b[0;31m \u001b[0mkf_shuffle\u001b[0m \u001b[0;34m=\u001b[0m \u001b[0mStratifiedKFold\u001b[0m\u001b[0;34m(\u001b[0m\u001b[0mn_splits\u001b[0m\u001b[0;34m=\u001b[0m\u001b[0;36m3\u001b[0m\u001b[0;34m,\u001b[0m\u001b[0mshuffle\u001b[0m\u001b[0;34m=\u001b[0m\u001b[0;32mTrue\u001b[0m\u001b[0;34m,\u001b[0m\u001b[0mrandom_state\u001b[0m\u001b[0;34m=\u001b[0m\u001b[0;36m777\u001b[0m\u001b[0;34m)\u001b[0m\u001b[0;34m\u001b[0m\u001b[0m\n\u001b[0m\u001b[1;32m      2\u001b[0m \u001b[0;34m\u001b[0m\u001b[0m\n\u001b[1;32m      3\u001b[0m \u001b[0mbinary\u001b[0m \u001b[0;34m=\u001b[0m \u001b[0;32mTrue\u001b[0m\u001b[0;34m\u001b[0m\u001b[0m\n\u001b[1;32m      4\u001b[0m \u001b[0mfeats\u001b[0m \u001b[0;34m=\u001b[0m \u001b[0;36m5\u001b[0m \u001b[0;31m#only keep the top 5\u001b[0m\u001b[0;34m\u001b[0m\u001b[0m\n\u001b[1;32m      5\u001b[0m \u001b[0;34m\u001b[0m\u001b[0m\n",
      "\u001b[0;31mNameError\u001b[0m: name 'StratifiedKFold' is not defined"
     ]
    }
   ],
   "source": [
    "kf_shuffle = StratifiedKFold(n_splits=3,shuffle=True,random_state=777)\n",
    "\n",
    "binary = True\n",
    "feats = 5 #only keep the top 5\n",
    "\n",
    "#train_test_split happens outside of the pipeline\n",
    "#resampling\n",
    "\n",
    "'Yi', Pipeline([\n",
    "                      ('k_means',KMeans((['comments']**0.5),\n",
    "                                       n_clusters=2,\n",
    "                                       random_state=1994)),\n",
    "            ('resample',resample((['comments']**0.5),\n",
    "                              random_state=1994))\n",
    "    \n",
    "    \n",
    "\n",
    "pipeline = Pipeline([\n",
    "    ('features', FeatureUnion([\n",
    "        ('Yi', Pipeline([\n",
    "                      ('k_means',KMeans((['comments']**0.5),\n",
    "                                       n_clusters=2,\n",
    "                                       random_state=1994)),\n",
    "            ('resample',resample((['comments']**0.5),\n",
    "                              random_state=1994))\n",
    "                     ])),\n",
    "        #example of NLP\n",
    "        ('Country', Pipeline([\n",
    "                      ('text',SampleExtractor(['Country'])),\n",
    "                      ('dummify', CountVectorizer(binary=binary, max_features=feats)),\n",
    "                      ('densify', DenseTransformer()),\n",
    "                     ])),\n",
    "        ('cont_features', Pipeline([\n",
    "                      ('continuous', SampleExtractor(['Consumed In', 'Price', 'Vintage'])),\n",
    "                      ('impute',Imputer()),\n",
    "                      ])),\n",
    "        ])),\n",
    "        ('scale', ModelTransformer()),\n",
    "        ('tree', tree.DecisionTreeRegressor()),\n",
    "])\n"
   ]
  },
  {
   "cell_type": "code",
   "execution_count": null,
   "metadata": {},
   "outputs": [],
   "source": []
  }
 ],
 "metadata": {
  "kernelspec": {
   "display_name": "Python 3",
   "language": "python",
   "name": "python3"
  },
  "language_info": {
   "codemirror_mode": {
    "name": "ipython",
    "version": 3
   },
   "file_extension": ".py",
   "mimetype": "text/x-python",
   "name": "python",
   "nbconvert_exporter": "python",
   "pygments_lexer": "ipython3",
   "version": "3.6.5"
  }
 },
 "nbformat": 4,
 "nbformat_minor": 2
}
