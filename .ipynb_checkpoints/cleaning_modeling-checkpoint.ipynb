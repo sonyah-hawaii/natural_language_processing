{
 "cells": [
  {
   "cell_type": "markdown",
   "metadata": {},
   "source": [
    "# Reddit API Project\n",
    "## Sonyah Seiden\n",
    "\n",
    "### Executive Summary:\n",
    "This project aims to take an initial look at user interaction on Reddit. Our goals included scraping data from Reddit's API, developing a binary classification, and building predictive models that facilitate our undertanding of important attributes.  \n",
    "\n",
    "The first goal was accomplished in the *Cleaning and Extracting notebook*\n",
    "The second and third goals are accomplished here and in the *Random Forest Model* notebook\n",
    "\n",
    "#### The key takeaways are:\n",
    "- Subreddit and number of subscribers is highly impactful\n",
    "- As are factors like being stickied or locked on a subreddit\n",
    "- Crossposted threads do well to achieve higher interaction\n",
    "- We can identify certain words, topics, and ideas that are popular for gaining interaction, but what, specifically, those words are, is highly dependent on immediate relevance (i.e. buzz-topics naturally generate more...buzz)\n",
    "\n",
    "#### Notebook Contents\n",
    "- [Attribute selection](#attribute selection)\n",
    "- [Class development with K-Means](#class development)\n",
    "- [Feature engineering](#feature engineering)\n",
    "- [Text content analysis](#impactful words)\n",
    "- [Subreddit analysis](#impactful subreddits)\n",
    "- [Total inclusion model](#complete model)"
   ]
  },
  {
   "cell_type": "code",
   "execution_count": 64,
   "metadata": {},
   "outputs": [],
   "source": [
    "import pandas as pd\n",
    "import numpy as np\n",
    "import matplotlib.pyplot as plt\n",
    "%matplotlib inline"
   ]
  },
  {
   "cell_type": "markdown",
   "metadata": {},
   "source": [
    "#### In addition to the required attributes:\n",
    "- Title of thread\n",
    "- Subreddit\n",
    "- Lenght of time up\n",
    "- Number of comments (yi)\n",
    "#### I'm going to pull out a number of other attributes that I'd like to test, including:\n",
    "- Number of subscribers\n",
    "- Scores (ups, downs, gilds, net score)\n",
    "- Over 18\n",
    "- Moderator changes (pinned, locked, archived, stickied)\n",
    "- Crossposts (a popular approach to get more likes and comments)\n",
    "- Post categories (this may not be fruitful)\n",
    "- Is video\n",
    "- a few others"
   ]
  },
  {
   "cell_type": "code",
   "execution_count": 65,
   "metadata": {},
   "outputs": [],
   "source": [
    "#Creating a data dictionary that I fill as I identify attributes I want in the dataset\n",
    "#Includes notes\n",
    "dictionary = pd.DataFrame()\n",
    "dictionary['variable'] = ['comments',\n",
    "                          'title',\n",
    "                          'subreddit',\n",
    "                          'subreddit_subscribers',\n",
    "                          'subreddit_type',\n",
    "                          'ups',\n",
    "                          'downs',\n",
    "                          'score',\n",
    "                          'gilded',\n",
    "                          'time_since_posted',\n",
    "                          'over_18',\n",
    "                          'distinguished',\n",
    "                          'stickied',\n",
    "                          'locked',\n",
    "                          'num_crossposts',\n",
    "                          'is_video',\n",
    "                         ]\n",
    "\n",
    "dictionary['description'] = ['Number of comments. Target variable',\n",
    "                          'Title of post. Apply vectorizer',\n",
    "                          'subreddit name (Consider lemmatizer)',\n",
    "                          'Number of subreddit subscribers',\n",
    "                          'public v. private',\n",
    "                          'Number of uplikes',\n",
    "                          'Number of downlikes',\n",
    "                          'Net score(ups + downs)',\n",
    "                          'Number of times post is gilded',\n",
    "                          'Calculated as current_time - time_posted',\n",
    "                          'If post is 18+',\n",
    "                          'distinguished',\n",
    "                          'If post is stickied in post',\n",
    "                          'If post is locked in post',\n",
    "                          'Times has been crossposted to other threads',\n",
    "                          'If post contains video media',\n",
    "                         ]\n",
    "\n",
    "dictionary['dtype'] = ['str',\n",
    "                          'str',\n",
    "                          'subreddit',\n",
    "                          'int',\n",
    "                          'category',\n",
    "                          'int',\n",
    "                          'int',\n",
    "                          'int',\n",
    "                          'int',\n",
    "                          'long',\n",
    "                          'bool',\n",
    "                          'bool',\n",
    "                          'bool',\n",
    "                          'bool',\n",
    "                          'int',\n",
    "                          'bool',\n",
    "\n",
    "                         ]"
   ]
  },
  {
   "cell_type": "code",
   "execution_count": 66,
   "metadata": {},
   "outputs": [],
   "source": [
    "def what_is(dataset, variable):\n",
    "    \"\"\"\n",
    "    Works on all standard Sonyah Seiden data dictionaries.\n",
    "    dataset = dataframe used to house data dictionary\n",
    "    variable = attribute information is needed on, formatted as string \"\"\"\n",
    "    return dataset[dataset['variable']==variable]\n",
    "#Creating a function to be able to call the information "
   ]
  },
  {
   "cell_type": "code",
   "execution_count": 67,
   "metadata": {},
   "outputs": [],
   "source": [
    "dataset = pd.read_csv('./unique_posts.csv'); #reading in my csv"
   ]
  },
  {
   "cell_type": "code",
   "execution_count": 68,
   "metadata": {},
   "outputs": [
    {
     "data": {
      "text/plain": [
       "(18018, 85)"
      ]
     },
     "execution_count": 68,
     "metadata": {},
     "output_type": "execute_result"
    }
   ],
   "source": [
    "dataset.shape"
   ]
  },
  {
   "cell_type": "code",
   "execution_count": 69,
   "metadata": {},
   "outputs": [],
   "source": [
    "dataset.columns; #used this as reference, muting output to shorten notebook"
   ]
  },
  {
   "cell_type": "markdown",
   "metadata": {},
   "source": [
    "##### _Thanks to the way I saved my data, I can read it in and easily pull information out._"
   ]
  },
  {
   "cell_type": "markdown",
   "metadata": {},
   "source": [
    "<a id='attribute selection'></a>"
   ]
  },
  {
   "cell_type": "code",
   "execution_count": 70,
   "metadata": {},
   "outputs": [],
   "source": [
    "Xi= pd.DataFrame()\n",
    "Xi['comments'] = dataset['num_comments']\n",
    "Xi['title'] = dataset['title']\n",
    "Xi['subreddit'] = dataset['subreddit']\n",
    "Xi['subreddit_subscribers'] = dataset['subreddit_subscribers'] \n",
    "Xi['subreddit_type'] = dataset['subreddit_type']\n",
    "Xi['ups'] = dataset['ups']\n",
    "Xi['downs'] = dataset['downs']\n",
    "Xi['score'] = dataset['score']\n",
    "Xi['gilded'] = dataset['gilded']\n",
    "Xi['time_since_posted'] = (1527429342827.872-(dataset['created'])) #time pulled above\n",
    "Xi['over_18'] = dataset['over_18']\n",
    "Xi['distinguished'] = dataset['distinguished']\n",
    "Xi['stickied'] = dataset['stickied']\n",
    "Xi['locked'] = dataset['locked']\n",
    "Xi['num_crossposts'] = dataset['num_crossposts']\n",
    "Xi['is_video'] = dataset['is_video']"
   ]
  },
  {
   "cell_type": "code",
   "execution_count": 71,
   "metadata": {},
   "outputs": [],
   "source": [
    "Xi.to_csv('./Xi.csv')\n",
    "#Saving to csv because paranoia"
   ]
  },
  {
   "cell_type": "markdown",
   "metadata": {},
   "source": [
    "### We've gotten our data in properly, but our output needs to be binary. Let's take a look at our yi and test a few ways to develop a threshold"
   ]
  },
  {
   "cell_type": "code",
   "execution_count": 72,
   "metadata": {},
   "outputs": [
    {
     "name": "stderr",
     "output_type": "stream",
     "text": [
      "/anaconda3/envs/dsi/lib/python3.6/site-packages/matplotlib/axes/_axes.py:6462: UserWarning: The 'normed' kwarg is deprecated, and has been replaced by the 'density' kwarg.\n",
      "  warnings.warn(\"The 'normed' kwarg is deprecated, and has been \"\n"
     ]
    },
    {
     "data": {
      "image/png": "[encoded data removed]",
      "text/plain": [
       "<Figure size 432x288 with 1 Axes>"
      ]
     },
     "metadata": {},
     "output_type": "display_data"
    }
   ],
   "source": [
    "import seaborn as sns\n",
    "sns.distplot(Xi['comments'], bins=5);"
   ]
  },
  {
   "cell_type": "markdown",
   "metadata": {},
   "source": [
    "##### _There is such a large spread that we really need to break down our yi into a subset. Since we seem to have a dropoff somewhere under 5,000 let's extract those with less than 5,000 comments and save it to an object"
   ]
  },
  {
   "cell_type": "code",
   "execution_count": 73,
   "metadata": {},
   "outputs": [],
   "source": [
    "subset = Xi[Xi['comments']<5000]"
   ]
  },
  {
   "cell_type": "code",
   "execution_count": 74,
   "metadata": {},
   "outputs": [
    {
     "name": "stderr",
     "output_type": "stream",
     "text": [
      "/anaconda3/envs/dsi/lib/python3.6/site-packages/matplotlib/axes/_axes.py:6462: UserWarning: The 'normed' kwarg is deprecated, and has been replaced by the 'density' kwarg.\n",
      "  warnings.warn(\"The 'normed' kwarg is deprecated, and has been \"\n"
     ]
    },
    {
     "data": {
      "image/png": "[encoded data removed]",
      "text/plain": [
       "<Figure size 432x288 with 1 Axes>"
      ]
     },
     "metadata": {},
     "output_type": "display_data"
    }
   ],
   "source": [
    "sns.distplot(subset['comments'],\n",
    "            bins=10);"
   ]
  },
  {
   "cell_type": "markdown",
   "metadata": {},
   "source": [
    "#### Let's try one more subset to get a little more specific."
   ]
  },
  {
   "cell_type": "code",
   "execution_count": 75,
   "metadata": {},
   "outputs": [
    {
     "name": "stderr",
     "output_type": "stream",
     "text": [
      "/anaconda3/envs/dsi/lib/python3.6/site-packages/matplotlib/axes/_axes.py:6462: UserWarning: The 'normed' kwarg is deprecated, and has been replaced by the 'density' kwarg.\n",
      "  warnings.warn(\"The 'normed' kwarg is deprecated, and has been \"\n"
     ]
    },
    {
     "data": {
      "image/png": "[encoded data removed]",
      "text/plain": [
       "<Figure size 432x288 with 1 Axes>"
      ]
     },
     "metadata": {},
     "output_type": "display_data"
    }
   ],
   "source": [
    "subset_2 = Xi[Xi['comments']< 1000]\n",
    "sns.distplot(subset_2['comments'],\n",
    "            kde=False);"
   ]
  },
  {
   "cell_type": "markdown",
   "metadata": {},
   "source": [
    "<a id='class development'></a>"
   ]
  },
  {
   "cell_type": "markdown",
   "metadata": {},
   "source": [
    "### So clearly we have a view groups that can be separated. Let's use K-Means unsupervised model to separate them more \"intelligently\"\n",
    "#### We're going to do square root of Xi because it had the best impact on our variance"
   ]
  },
  {
   "cell_type": "code",
   "execution_count": 76,
   "metadata": {},
   "outputs": [],
   "source": [
    "#Creating a Yi that will be put into my K-Means method\n",
    "Yi = np.sqrt(Xi[[\n",
    "    'comments'\n",
    "]])\n",
    "\n",
    "X = Xi.drop(labels=['score','gilded','ups','downs'], axis=1)\n",
    "#creating a new X dataframe"
   ]
  },
  {
   "cell_type": "markdown",
   "metadata": {},
   "source": [
    "### Train Test Split"
   ]
  },
  {
   "cell_type": "markdown",
   "metadata": {},
   "source": [
    "### Target Development: Classification Split Trials\n",
    "- Tried different variations of comments, score, and gilds\n",
    "- Tried StandardScaler and no scaler\n",
    "\n",
    "_Best result was to do K-Means of K=2 with sqrt(comments) (visualized below)_"
   ]
  },
  {
   "cell_type": "markdown",
   "metadata": {},
   "source": [
    "#### Visualizing the _correction of comments distribution_"
   ]
  },
  {
   "cell_type": "code",
   "execution_count": 77,
   "metadata": {},
   "outputs": [
    {
     "name": "stderr",
     "output_type": "stream",
     "text": [
      "/anaconda3/envs/dsi/lib/python3.6/site-packages/matplotlib/axes/_axes.py:6462: UserWarning: The 'normed' kwarg is deprecated, and has been replaced by the 'density' kwarg.\n",
      "  warnings.warn(\"The 'normed' kwarg is deprecated, and has been \"\n"
     ]
    },
    {
     "data": {
      "image/png": "[encoded data removed]",
      "text/plain": [
       "<Figure size 1440x720 with 2 Axes>"
      ]
     },
     "metadata": {},
     "output_type": "display_data"
    }
   ],
   "source": [
    "fig, (ax1, ax2) = plt.subplots(1,2, figsize=(20,10))\n",
    "sns.distplot(Xi['comments'],\n",
    "            ax=ax1);\n",
    "ax1.set_title('Distribution of comments');\n",
    "sns.distplot(np.sqrt(Xi['comments']),\n",
    "            ax=ax2);\n",
    "ax2.set_title('Distribution of comments^2');"
   ]
  },
  {
   "cell_type": "markdown",
   "metadata": {},
   "source": [
    "##### Although this might not seem significant, the full effect occurs when it is passed through K-Means. It allows us to get tighter groups with a wider distance between the means."
   ]
  },
  {
   "cell_type": "markdown",
   "metadata": {},
   "source": [
    "#### Visualizing the _issues of splitting by mean_"
   ]
  },
  {
   "cell_type": "code",
   "execution_count": 78,
   "metadata": {
    "scrolled": true
   },
   "outputs": [
    {
     "name": "stderr",
     "output_type": "stream",
     "text": [
      "/anaconda3/envs/dsi/lib/python3.6/site-packages/matplotlib/axes/_axes.py:6462: UserWarning: The 'normed' kwarg is deprecated, and has been replaced by the 'density' kwarg.\n",
      "  warnings.warn(\"The 'normed' kwarg is deprecated, and has been \"\n"
     ]
    },
    {
     "data": {
      "image/png": "[encoded data removed]",
      "text/plain": [
       "<Figure size 1440x720 with 2 Axes>"
      ]
     },
     "metadata": {},
     "output_type": "display_data"
    }
   ],
   "source": [
    "fig, (ax1, ax2) = plt.subplots(1,2, figsize=(20,10))\n",
    "sns.distplot((Xi[Xi['comments']<Xi['comments'].mean()]['comments']),\n",
    "            ax=ax1);\n",
    "ax1.set_title('Distribution of comments below mean');\n",
    "sns.distplot((Xi[Xi['comments']>Xi['comments'].mean()]['comments']),\n",
    "             bins=200,\n",
    "            ax=ax2);\n",
    "ax2.set_title('Distribution of comments above mean');"
   ]
  },
  {
   "cell_type": "markdown",
   "metadata": {},
   "source": [
    "#### While this does well to pull out and separate the tiny bump in our model, it is still not leaving us with a good distribution of our target class. We have, instead, created two distinct spikes on the low end of our scale and are thus *unable to be sure our model will do well to understand attributes of high-interaction posts*.   This is reflected below in the spreads of our two classes."
   ]
  },
  {
   "cell_type": "code",
   "execution_count": 79,
   "metadata": {},
   "outputs": [
    {
     "name": "stdout",
     "output_type": "stream",
     "text": [
      "comments below mean \n",
      "comments min: 0 comments max: 70 \n",
      "score min: 16 score max: 20264 \n",
      "gilded min: 0 gilded max 2\n"
     ]
    }
   ],
   "source": [
    "print('comments below mean', '\\ncomments min:', Xi[Xi['comments']<Xi['comments'].mean()]['comments'].min(), 'comments max:', Xi[Xi['comments']<Xi['comments'].mean()]['comments'].max(),\n",
    "      '\\nscore min:',Xi[Xi['comments']<Xi['comments'].mean()]['score'].min(), 'score max:', Xi[Xi['comments']<Xi['comments'].mean()]['score'].max(),\n",
    "     '\\ngilded min:', Xi[Xi['comments']<Xi['comments'].mean()]['gilded'].min(), 'gilded max', Xi[Xi['comments']<Xi['comments'].mean()]['gilded'].max()\n",
    "     )"
   ]
  },
  {
   "cell_type": "code",
   "execution_count": 80,
   "metadata": {},
   "outputs": [
    {
     "name": "stdout",
     "output_type": "stream",
     "text": [
      "comments above mean \n",
      "comments min: 71 comments max: 28345 \n",
      "score min: 22 score max: 100823 \n",
      "gilded min: 0 gilded max 5\n"
     ]
    }
   ],
   "source": [
    "print('comments above mean', '\\ncomments min:', Xi[Xi['comments']>Xi['comments'].mean()]['comments'].min(), 'comments max:', Xi[Xi['comments']>Xi['comments'].mean()]['comments'].max(),\n",
    "      '\\nscore min:',Xi[Xi['comments']>Xi['comments'].mean()]['score'].min(), 'score max:', Xi[Xi['comments']>Xi['comments'].mean()]['score'].max(),\n",
    "     '\\ngilded min:', Xi[Xi['comments']>Xi['comments'].mean()]['gilded'].min(), 'gilded max', Xi[Xi['comments']>Xi['comments'].mean()]['gilded'].max()\n",
    "     )"
   ]
  },
  {
   "cell_type": "markdown",
   "metadata": {},
   "source": [
    "#### Visualizing the impact of using `K-Means` to generate our target.\n",
    "###### This is a good way to create a split that still operates using means, but incorporates multiple means and relies on optimizing distance between them. Using this methodology incombination with sgrt(comments) has the best overall impact, and allows the distribution within each class to be closer to normal."
   ]
  },
  {
   "cell_type": "code",
   "execution_count": 81,
   "metadata": {},
   "outputs": [],
   "source": [
    "from sklearn.model_selection import train_test_split"
   ]
  },
  {
   "cell_type": "code",
   "execution_count": 82,
   "metadata": {},
   "outputs": [],
   "source": [
    "#X is our dataframe of attributes\n",
    "#Yi is our target\n",
    "trainX, testX, trainY, testY = train_test_split(X, Yi,\n",
    "                                               random_state=1994,\n",
    "                                                test_size=0.3,\n",
    "                                                shuffle=True)"
   ]
  },
  {
   "cell_type": "code",
   "execution_count": 83,
   "metadata": {},
   "outputs": [],
   "source": [
    "from sklearn.cluster import KMeans\n",
    "from sklearn.preprocessing import StandardScaler"
   ]
  },
  {
   "cell_type": "code",
   "execution_count": 84,
   "metadata": {},
   "outputs": [],
   "source": [
    "# ss = StandardScaler()\n",
    "# ss.fit(trainY)\n",
    "# Y_train = ss.transform(trainY)\n",
    "# Y_test = ss.transform(testY)\n",
    "# Commented out because this does not improve my cluster"
   ]
  },
  {
   "cell_type": "code",
   "execution_count": 85,
   "metadata": {},
   "outputs": [],
   "source": [
    "kmeans = KMeans(n_clusters = 2, #2 clusters for binary output\n",
    "               random_state = 1994,\n",
    "               )\n",
    "target_train = kmeans.fit_predict(trainY)\n",
    "target_test = kmeans.predict(testY)\n",
    "Xi['target'] = kmeans.predict(Yi)"
   ]
  },
  {
   "cell_type": "code",
   "execution_count": 86,
   "metadata": {
    "scrolled": true
   },
   "outputs": [
    {
     "data": {
      "text/plain": [
       "[(array([ 4.30142428, 22.19539655]), 'comments')]"
      ]
     },
     "execution_count": 86,
     "metadata": {},
     "output_type": "execute_result"
    }
   ],
   "source": [
    "list(zip(kmeans.cluster_centers_.T, Yi.columns))"
   ]
  },
  {
   "cell_type": "code",
   "execution_count": 87,
   "metadata": {},
   "outputs": [
    {
     "name": "stderr",
     "output_type": "stream",
     "text": [
      "/anaconda3/envs/dsi/lib/python3.6/site-packages/matplotlib/axes/_axes.py:6462: UserWarning: The 'normed' kwarg is deprecated, and has been replaced by the 'density' kwarg.\n",
      "  warnings.warn(\"The 'normed' kwarg is deprecated, and has been \"\n"
     ]
    },
    {
     "data": {
      "image/png": "[encoded data removed]",
      "text/plain": [
       "<Figure size 1440x720 with 2 Axes>"
      ]
     },
     "metadata": {},
     "output_type": "display_data"
    }
   ],
   "source": [
    "fig, (ax1, ax2) = plt.subplots(1,2, figsize=(20,10))\n",
    "sns.distplot(np.sqrt(Xi[Xi['target']==1]['comments']),\n",
    "            ax=ax2);\n",
    "ax2.set_title('Distribution of Class 1 comments');\n",
    "sns.distplot(np.sqrt(Xi[Xi['target']==0]['comments']),\n",
    "            ax=ax1);\n",
    "ax1.set_title('Distribution of Class 0 comments');\n"
   ]
  },
  {
   "cell_type": "code",
   "execution_count": 88,
   "metadata": {},
   "outputs": [
    {
     "data": {
      "text/plain": [
       "1221"
      ]
     },
     "execution_count": 88,
     "metadata": {},
     "output_type": "execute_result"
    }
   ],
   "source": [
    "Xi['target'].sum()"
   ]
  },
  {
   "cell_type": "code",
   "execution_count": 89,
   "metadata": {},
   "outputs": [
    {
     "name": "stdout",
     "output_type": "stream",
     "text": [
      "class 0 \n",
      "comments min: 176 comments max: 28345 \n",
      "score min: 57 score max: 100823 \n",
      "gilded min: 0 gilded max 5\n"
     ]
    }
   ],
   "source": [
    "print('class 0', '\\ncomments min:', Xi[Xi['target']==1]['comments'].min(), 'comments max:', Xi[Xi['target']==1]['comments'].max(),\n",
    "      '\\nscore min:',Xi[Xi['target']==1]['score'].min(), 'score max:', Xi[Xi['target']==1]['score'].max(),\n",
    "     '\\ngilded min:', Xi[Xi['target']==1]['gilded'].min(), 'gilded max', Xi[Xi['target']==1]['gilded'].max()\n",
    "     )"
   ]
  },
  {
   "cell_type": "code",
   "execution_count": 90,
   "metadata": {
    "scrolled": true
   },
   "outputs": [
    {
     "name": "stdout",
     "output_type": "stream",
     "text": [
      "class 1 \n",
      "comments min: 0 comments max: 175 \n",
      "score min: 16 score max: 33748 \n",
      "gilded min: 0 gilded max 2\n"
     ]
    }
   ],
   "source": [
    "print('class 1', '\\ncomments min:', Xi[Xi['target']==0]['comments'].min(), 'comments max:', Xi[Xi['target']==0]['comments'].max(),\n",
    "      '\\nscore min:',Xi[Xi['target']==0]['score'].min(), 'score max:', Xi[Xi['target']==0]['score'].max(),\n",
    "     '\\ngilded min:', Xi[Xi['target']==0]['gilded'].min(), 'gilded max', Xi[Xi['target']==0]['gilded'].max()\n",
    "     )"
   ]
  },
  {
   "cell_type": "code",
   "execution_count": 91,
   "metadata": {},
   "outputs": [
    {
     "data": {
      "text/plain": [
       "15.0"
      ]
     },
     "execution_count": 91,
     "metadata": {},
     "output_type": "execute_result"
    }
   ],
   "source": [
    "Xi['comments'].median()"
   ]
  },
  {
   "cell_type": "code",
   "execution_count": 92,
   "metadata": {},
   "outputs": [
    {
     "data": {
      "text/plain": [
       "(16797, 1221)"
      ]
     },
     "execution_count": 92,
     "metadata": {},
     "output_type": "execute_result"
    }
   ],
   "source": [
    "len(Xi[Xi['target']==0]),len(Xi[Xi['target']==1])"
   ]
  },
  {
   "cell_type": "code",
   "execution_count": 93,
   "metadata": {},
   "outputs": [
    {
     "name": "stdout",
     "output_type": "stream",
     "text": [
      "0.06776556776556776\n"
     ]
    }
   ],
   "source": [
    "print(len(Xi[Xi['target']==1])/(len(Xi)))"
   ]
  },
  {
   "cell_type": "code",
   "execution_count": 94,
   "metadata": {},
   "outputs": [
    {
     "name": "stdout",
     "output_type": "stream",
     "text": [
      "our baseline for assessment is: 0.9322344322344323\n"
     ]
    }
   ],
   "source": [
    "print('our baseline for assessment is:', 1-(len(Xi[Xi['target']==1])/(len(Xi))))"
   ]
  },
  {
   "cell_type": "markdown",
   "metadata": {},
   "source": [
    "<a id='feature engineering'></a>"
   ]
  },
  {
   "cell_type": "markdown",
   "metadata": {},
   "source": [
    "### Cleaning & Feature Engineering\n",
    "#### `CountVectorizer` on `title` column"
   ]
  },
  {
   "cell_type": "code",
   "execution_count": 95,
   "metadata": {},
   "outputs": [],
   "source": [
    "from sklearn.feature_extraction.text import CountVectorizer\n",
    "from sklearn.model_selection import GridSearchCV\n",
    "from sklearn.linear_model import LogisticRegression"
   ]
  },
  {
   "cell_type": "code",
   "execution_count": 96,
   "metadata": {},
   "outputs": [],
   "source": [
    "counts = CountVectorizer(lowercase=True,\n",
    "                      stop_words = 'english',\n",
    "                      ngram_range=(1,3)\n",
    "                      )"
   ]
  },
  {
   "cell_type": "code",
   "execution_count": 97,
   "metadata": {
    "scrolled": false
   },
   "outputs": [
    {
     "data": {
      "text/plain": [
       "CountVectorizer(analyzer='word', binary=False, decode_error='strict',\n",
       "        dtype=<class 'numpy.int64'>, encoding='utf-8', input='content',\n",
       "        lowercase=True, max_df=1.0, max_features=None, min_df=1,\n",
       "        ngram_range=(1, 3), preprocessor=None, stop_words='english',\n",
       "        strip_accents=None, token_pattern='(?u)\\\\b\\\\w\\\\w+\\\\b',\n",
       "        tokenizer=None, vocabulary=None)"
      ]
     },
     "execution_count": 97,
     "metadata": {},
     "output_type": "execute_result"
    }
   ],
   "source": [
    "counts.fit(trainX['title'])"
   ]
  },
  {
   "cell_type": "code",
   "execution_count": 98,
   "metadata": {},
   "outputs": [],
   "source": [
    "words_train = counts.transform(trainX['title'])\n",
    "words_test = counts.transform(testX['title'])"
   ]
  },
  {
   "cell_type": "code",
   "execution_count": 99,
   "metadata": {},
   "outputs": [],
   "source": [
    "words_train = words_train.todense()\n",
    "words_test = words_test.todense()"
   ]
  },
  {
   "cell_type": "markdown",
   "metadata": {},
   "source": [
    "#### Gonna make a simple model to see how well a model does based off text content alone."
   ]
  },
  {
   "cell_type": "code",
   "execution_count": 100,
   "metadata": {
    "scrolled": false
   },
   "outputs": [
    {
     "data": {
      "text/plain": [
       "0.9358120606733259"
      ]
     },
     "execution_count": 100,
     "metadata": {},
     "output_type": "execute_result"
    }
   ],
   "source": [
    "lr = LogisticRegression()\n",
    "lr.fit(words_train, target_train)\n",
    "lr.score(words_test, target_test)"
   ]
  },
  {
   "cell_type": "code",
   "execution_count": 101,
   "metadata": {},
   "outputs": [],
   "source": [
    "#confusion matrix\n",
    "from sklearn.metrics import confusion_matrix\n",
    "\n",
    "cm = confusion_matrix(target_test, lr.predict(words_test))"
   ]
  },
  {
   "cell_type": "code",
   "execution_count": 102,
   "metadata": {},
   "outputs": [
    {
     "data": {
      "text/plain": [
       "array([[4968,   43],\n",
       "       [ 304,   91]])"
      ]
     },
     "execution_count": 102,
     "metadata": {},
     "output_type": "execute_result"
    }
   ],
   "source": [
    "cm"
   ]
  },
  {
   "cell_type": "code",
   "execution_count": 104,
   "metadata": {},
   "outputs": [
    {
     "name": "stdout",
     "output_type": "stream",
     "text": [
      "The false positive rate was:  0.008581121532628218 \n",
      "The false negative rate was:  0.769620253164557\n"
     ]
    }
   ],
   "source": [
    "print('The false positive rate was: ', 43/(4968+43),\n",
    "     '\\nThe false negative rate was: ', 304/(304+91))"
   ]
  },
  {
   "cell_type": "markdown",
   "metadata": {},
   "source": [
    "##### Daaamn this model not bad, but most of our explanation loss is occuring from our 'success' class, which is not good."
   ]
  },
  {
   "cell_type": "markdown",
   "metadata": {},
   "source": [
    "### Output Improvement\n",
    "#### Resampling\n",
    "##### Given the small percentage of our minority class, I know I am going to want to use `resample` as a method to improve my training dataset. I tried: \n",
    "- upsampling the minority class (made my model worse)\n",
    "- downsampling the majority class (a few different tries and I ended up going with reducing the majority class to 4500)\n",
    "##### and run the adapted datasets through `CountVectorizer` and then `LogisticRegression`"
   ]
  },
  {
   "cell_type": "code",
   "execution_count": 105,
   "metadata": {},
   "outputs": [],
   "source": [
    "maj_class = trainX[trainX['comments']<176]\n",
    "min_class = trainX[trainX['comments']>175]\n",
    "#setting majority and minority\n",
    "#Our comments minimum for the majority class was 176 so I am using that as my separator\n",
    "#I'll run this back through K-Means after resampling"
   ]
  },
  {
   "cell_type": "code",
   "execution_count": 106,
   "metadata": {},
   "outputs": [
    {
     "data": {
      "text/plain": [
       "(11786, 826)"
      ]
     },
     "execution_count": 106,
     "metadata": {},
     "output_type": "execute_result"
    }
   ],
   "source": [
    "len(maj_class), len(min_class)"
   ]
  },
  {
   "cell_type": "code",
   "execution_count": 107,
   "metadata": {},
   "outputs": [],
   "source": [
    "from sklearn.utils import resample\n",
    "\n",
    "bootsy = resample(maj_class, replace=False, n_samples=4500, random_state=42)\n",
    "dataset_boots = pd.concat([bootsy, min_class],axis=0)"
   ]
  },
  {
   "cell_type": "code",
   "execution_count": 108,
   "metadata": {
    "scrolled": true
   },
   "outputs": [
    {
     "data": {
      "text/plain": [
       "0.15508824633871576"
      ]
     },
     "execution_count": 108,
     "metadata": {},
     "output_type": "execute_result"
    }
   ],
   "source": [
    "1-(len(bootsy))/len(dataset_boots)"
   ]
  },
  {
   "cell_type": "code",
   "execution_count": 109,
   "metadata": {},
   "outputs": [
    {
     "name": "stdout",
     "output_type": "stream",
     "text": [
      "Our new baseline is:  0.8449117536612842\n"
     ]
    }
   ],
   "source": [
    "print('Our new baseline is: ', (len(bootsy))/len(dataset_boots))"
   ]
  },
  {
   "cell_type": "markdown",
   "metadata": {},
   "source": [
    "### Yi development\n",
    "#### `KMeans Cluster` pt. II"
   ]
  },
  {
   "cell_type": "code",
   "execution_count": 110,
   "metadata": {},
   "outputs": [],
   "source": [
    "cluster_boots = np.sqrt(dataset_boots['comments'])"
   ]
  },
  {
   "cell_type": "code",
   "execution_count": 111,
   "metadata": {},
   "outputs": [],
   "source": [
    "kmeans = KMeans(n_clusters = 2, #2 clusters for binary output\n",
    "               random_state = 1994\n",
    "               )\n",
    "target_train = kmeans.fit_predict(cluster_boots.values.reshape(-1, 1))\n",
    "target_test = kmeans.predict(testY)"
   ]
  },
  {
   "cell_type": "markdown",
   "metadata": {},
   "source": [
    "### Feature Engineering\n",
    "#### Using `CountVectorizer` on `title` column pt.II\n",
    "##### That way we can redo the first model and see if bootstrapping changed it at all."
   ]
  },
  {
   "cell_type": "code",
   "execution_count": 112,
   "metadata": {},
   "outputs": [],
   "source": [
    "counts = CountVectorizer(lowercase=True,\n",
    "                      stop_words = 'english',\n",
    "                      ngram_range=(1,3)\n",
    "                      )\n",
    "words_train = counts.fit_transform(dataset_boots['title'].values.astype('U'))\n",
    "#got this bit of code from StackOverflow, fixed an odd ValueError I was getting\n",
    "\n",
    "words_train = words_train.todense()\n",
    "#words_test is the test set component"
   ]
  },
  {
   "cell_type": "code",
   "execution_count": 113,
   "metadata": {},
   "outputs": [],
   "source": [
    "words_test = counts.transform(testX['title'].values.astype('U'))\n",
    "words_test = words_test.todense()"
   ]
  },
  {
   "cell_type": "code",
   "execution_count": 114,
   "metadata": {},
   "outputs": [],
   "source": [
    "train_title_cvec = pd.DataFrame(data=words_train,\n",
    "                   columns=counts.get_feature_names())\n",
    "test_title_cvec = pd.DataFrame(data=words_test,\n",
    "                              columns=counts.get_feature_names())"
   ]
  },
  {
   "cell_type": "code",
   "execution_count": 115,
   "metadata": {},
   "outputs": [
    {
     "data": {
      "text/plain": [
       "0.9413614502404736"
      ]
     },
     "execution_count": 115,
     "metadata": {},
     "output_type": "execute_result"
    }
   ],
   "source": [
    "lr_resampled = LogisticRegression()\n",
    "lr_resampled.fit(words_train, target_train)\n",
    "lr_resampled.score(words_test, target_test)"
   ]
  },
  {
   "cell_type": "code",
   "execution_count": 116,
   "metadata": {},
   "outputs": [],
   "source": [
    "#confusion matrix\n",
    "from sklearn.metrics import confusion_matrix\n",
    "\n",
    "cm = confusion_matrix(target_test, lr_resampled.predict(words_test))"
   ]
  },
  {
   "cell_type": "code",
   "execution_count": 117,
   "metadata": {},
   "outputs": [
    {
     "data": {
      "text/plain": [
       "array([[4949,   62],\n",
       "       [ 255,  140]])"
      ]
     },
     "execution_count": 117,
     "metadata": {},
     "output_type": "execute_result"
    }
   ],
   "source": [
    "cm"
   ]
  },
  {
   "cell_type": "code",
   "execution_count": 118,
   "metadata": {},
   "outputs": [
    {
     "name": "stdout",
     "output_type": "stream",
     "text": [
      "The false positive rate was:  0.01237277988425464 \n",
      "The false negative rate was:  0.6455696202531646\n"
     ]
    }
   ],
   "source": [
    "print('The false positive rate was: ', 62/(4949+62),\n",
    "     '\\nThe false negative rate was: ', 255/(255+140))"
   ]
  },
  {
   "cell_type": "markdown",
   "metadata": {},
   "source": [
    "#### Overall, we have less explanation loss and we have been able to reduce our false negative rate by 0.1"
   ]
  },
  {
   "cell_type": "markdown",
   "metadata": {},
   "source": [
    "#### Despite this, I'm still going to use this model to look at impactful words.\n",
    "##### We'll do that using `np.exp(coefficients)`"
   ]
  },
  {
   "cell_type": "code",
   "execution_count": 55,
   "metadata": {},
   "outputs": [],
   "source": [
    "exp_coeffs = pd.concat([pd.Series(train_title_cvec.columns),\n",
    "                       pd.DataFrame(np.exp(lr_resampled.coef_)).T],\n",
    "                     axis=1,\n",
    "                     keys=['attributes', 'exp_coeff'])\n",
    "\n",
    "exp_coeffs.sort_values([('exp_coeff', 0)], ascending=False, inplace=True)"
   ]
  },
  {
   "cell_type": "markdown",
   "metadata": {},
   "source": [
    "<a id='impactful words'></a>"
   ]
  },
  {
   "cell_type": "code",
   "execution_count": 56,
   "metadata": {
    "scrolled": true
   },
   "outputs": [
    {
     "data": {
      "text/html": [
       "<div>\n",
       "<style scoped>\n",
       "    .dataframe tbody tr th:only-of-type {\n",
       "        vertical-align: middle;\n",
       "    }\n",
       "\n",
       "    .dataframe tbody tr th {\n",
       "        vertical-align: top;\n",
       "    }\n",
       "\n",
       "    .dataframe thead tr th {\n",
       "        text-align: left;\n",
       "    }\n",
       "</style>\n",
       "<table border=\"1\" class=\"dataframe\">\n",
       "  <thead>\n",
       "    <tr>\n",
       "      <th></th>\n",
       "      <th>attributes</th>\n",
       "      <th>exp_coeff</th>\n",
       "    </tr>\n",
       "    <tr>\n",
       "      <th></th>\n",
       "      <th>0</th>\n",
       "      <th>0</th>\n",
       "    </tr>\n",
       "  </thead>\n",
       "  <tbody>\n",
       "    <tr>\n",
       "      <th>10775</th>\n",
       "      <td>disgusting</td>\n",
       "      <td>5.762925</td>\n",
       "    </tr>\n",
       "    <tr>\n",
       "      <th>12602</th>\n",
       "      <td>epilogue</td>\n",
       "      <td>4.371521</td>\n",
       "    </tr>\n",
       "    <tr>\n",
       "      <th>28749</th>\n",
       "      <td>pigtails</td>\n",
       "      <td>4.371521</td>\n",
       "    </tr>\n",
       "    <tr>\n",
       "      <th>39984</th>\n",
       "      <td>tweet</td>\n",
       "      <td>3.985257</td>\n",
       "    </tr>\n",
       "    <tr>\n",
       "      <th>6376</th>\n",
       "      <td>car</td>\n",
       "      <td>3.811252</td>\n",
       "    </tr>\n",
       "    <tr>\n",
       "      <th>22616</th>\n",
       "      <td>lol</td>\n",
       "      <td>3.299299</td>\n",
       "    </tr>\n",
       "    <tr>\n",
       "      <th>27002</th>\n",
       "      <td>office today</td>\n",
       "      <td>3.132402</td>\n",
       "    </tr>\n",
       "    <tr>\n",
       "      <th>24355</th>\n",
       "      <td>men raped</td>\n",
       "      <td>3.081926</td>\n",
       "    </tr>\n",
       "    <tr>\n",
       "      <th>40794</th>\n",
       "      <td>utc right</td>\n",
       "      <td>2.976530</td>\n",
       "    </tr>\n",
       "    <tr>\n",
       "      <th>40793</th>\n",
       "      <td>utc</td>\n",
       "      <td>2.976530</td>\n",
       "    </tr>\n",
       "    <tr>\n",
       "      <th>31251</th>\n",
       "      <td>realize</td>\n",
       "      <td>2.955806</td>\n",
       "    </tr>\n",
       "    <tr>\n",
       "      <th>20110</th>\n",
       "      <td>jozy chill</td>\n",
       "      <td>2.931903</td>\n",
       "    </tr>\n",
       "    <tr>\n",
       "      <th>20109</th>\n",
       "      <td>jozy</td>\n",
       "      <td>2.931903</td>\n",
       "    </tr>\n",
       "    <tr>\n",
       "      <th>37222</th>\n",
       "      <td>summer coming</td>\n",
       "      <td>2.919782</td>\n",
       "    </tr>\n",
       "    <tr>\n",
       "      <th>22857</th>\n",
       "      <td>lord mercy</td>\n",
       "      <td>2.904624</td>\n",
       "    </tr>\n",
       "    <tr>\n",
       "      <th>2909</th>\n",
       "      <td>apologies</td>\n",
       "      <td>2.885791</td>\n",
       "    </tr>\n",
       "    <tr>\n",
       "      <th>2910</th>\n",
       "      <td>apologies accepted</td>\n",
       "      <td>2.885791</td>\n",
       "    </tr>\n",
       "    <tr>\n",
       "      <th>29410</th>\n",
       "      <td>porn</td>\n",
       "      <td>2.873271</td>\n",
       "    </tr>\n",
       "    <tr>\n",
       "      <th>42745</th>\n",
       "      <td>woman</td>\n",
       "      <td>2.864945</td>\n",
       "    </tr>\n",
       "    <tr>\n",
       "      <th>31051</th>\n",
       "      <td>raped</td>\n",
       "      <td>2.855952</td>\n",
       "    </tr>\n",
       "    <tr>\n",
       "      <th>36138</th>\n",
       "      <td>squanchy</td>\n",
       "      <td>2.840959</td>\n",
       "    </tr>\n",
       "    <tr>\n",
       "      <th>11078</th>\n",
       "      <td>dog squanchy</td>\n",
       "      <td>2.840959</td>\n",
       "    </tr>\n",
       "    <tr>\n",
       "      <th>10512</th>\n",
       "      <td>did realize</td>\n",
       "      <td>2.825106</td>\n",
       "    </tr>\n",
       "    <tr>\n",
       "      <th>4939</th>\n",
       "      <td>bless</td>\n",
       "      <td>2.793269</td>\n",
       "    </tr>\n",
       "    <tr>\n",
       "      <th>29149</th>\n",
       "      <td>point</td>\n",
       "      <td>2.774714</td>\n",
       "    </tr>\n",
       "    <tr>\n",
       "      <th>1651</th>\n",
       "      <td>accepted</td>\n",
       "      <td>2.701244</td>\n",
       "    </tr>\n",
       "    <tr>\n",
       "      <th>15452</th>\n",
       "      <td>gem wild</td>\n",
       "      <td>2.688300</td>\n",
       "    </tr>\n",
       "    <tr>\n",
       "      <th>22977</th>\n",
       "      <td>love patientgamers</td>\n",
       "      <td>2.672087</td>\n",
       "    </tr>\n",
       "    <tr>\n",
       "      <th>28027</th>\n",
       "      <td>patientgamers</td>\n",
       "      <td>2.672087</td>\n",
       "    </tr>\n",
       "    <tr>\n",
       "      <th>22792</th>\n",
       "      <td>looks genuine</td>\n",
       "      <td>2.664302</td>\n",
       "    </tr>\n",
       "    <tr>\n",
       "      <th>...</th>\n",
       "      <td>...</td>\n",
       "      <td>...</td>\n",
       "    </tr>\n",
       "    <tr>\n",
       "      <th>32553</th>\n",
       "      <td>roads canada</td>\n",
       "      <td>2.480786</td>\n",
       "    </tr>\n",
       "    <tr>\n",
       "      <th>34605</th>\n",
       "      <td>shitty car</td>\n",
       "      <td>2.470476</td>\n",
       "    </tr>\n",
       "    <tr>\n",
       "      <th>38346</th>\n",
       "      <td>therapy</td>\n",
       "      <td>2.465545</td>\n",
       "    </tr>\n",
       "    <tr>\n",
       "      <th>28460</th>\n",
       "      <td>pettiness</td>\n",
       "      <td>2.464473</td>\n",
       "    </tr>\n",
       "    <tr>\n",
       "      <th>1970</th>\n",
       "      <td>advanced</td>\n",
       "      <td>2.464473</td>\n",
       "    </tr>\n",
       "    <tr>\n",
       "      <th>1971</th>\n",
       "      <td>advanced pettiness</td>\n",
       "      <td>2.464473</td>\n",
       "    </tr>\n",
       "    <tr>\n",
       "      <th>21844</th>\n",
       "      <td>lie</td>\n",
       "      <td>2.448301</td>\n",
       "    </tr>\n",
       "    <tr>\n",
       "      <th>19393</th>\n",
       "      <td>invest</td>\n",
       "      <td>2.444008</td>\n",
       "    </tr>\n",
       "    <tr>\n",
       "      <th>17432</th>\n",
       "      <td>hear</td>\n",
       "      <td>2.441336</td>\n",
       "    </tr>\n",
       "    <tr>\n",
       "      <th>42553</th>\n",
       "      <td>wild</td>\n",
       "      <td>2.425917</td>\n",
       "    </tr>\n",
       "    <tr>\n",
       "      <th>43062</th>\n",
       "      <td>worth</td>\n",
       "      <td>2.415517</td>\n",
       "    </tr>\n",
       "    <tr>\n",
       "      <th>31166</th>\n",
       "      <td>reading</td>\n",
       "      <td>2.414164</td>\n",
       "    </tr>\n",
       "    <tr>\n",
       "      <th>30361</th>\n",
       "      <td>proven</td>\n",
       "      <td>2.388896</td>\n",
       "    </tr>\n",
       "    <tr>\n",
       "      <th>4946</th>\n",
       "      <td>bless proven</td>\n",
       "      <td>2.388896</td>\n",
       "    </tr>\n",
       "    <tr>\n",
       "      <th>42471</th>\n",
       "      <td>wholesome simpsons</td>\n",
       "      <td>2.366911</td>\n",
       "    </tr>\n",
       "    <tr>\n",
       "      <th>34965</th>\n",
       "      <td>simpsons</td>\n",
       "      <td>2.366911</td>\n",
       "    </tr>\n",
       "    <tr>\n",
       "      <th>29839</th>\n",
       "      <td>president</td>\n",
       "      <td>2.349933</td>\n",
       "    </tr>\n",
       "    <tr>\n",
       "      <th>16827</th>\n",
       "      <td>guy gets</td>\n",
       "      <td>2.331751</td>\n",
       "    </tr>\n",
       "    <tr>\n",
       "      <th>21948</th>\n",
       "      <td>lights</td>\n",
       "      <td>2.326862</td>\n",
       "    </tr>\n",
       "    <tr>\n",
       "      <th>24349</th>\n",
       "      <td>men</td>\n",
       "      <td>2.325110</td>\n",
       "    </tr>\n",
       "    <tr>\n",
       "      <th>27262</th>\n",
       "      <td>omegalul</td>\n",
       "      <td>2.318465</td>\n",
       "    </tr>\n",
       "    <tr>\n",
       "      <th>8498</th>\n",
       "      <td>cookies</td>\n",
       "      <td>2.318465</td>\n",
       "    </tr>\n",
       "    <tr>\n",
       "      <th>14933</th>\n",
       "      <td>friendzoned</td>\n",
       "      <td>2.318465</td>\n",
       "    </tr>\n",
       "    <tr>\n",
       "      <th>12923</th>\n",
       "      <td>excessive</td>\n",
       "      <td>2.318465</td>\n",
       "    </tr>\n",
       "    <tr>\n",
       "      <th>10108</th>\n",
       "      <td>delegation</td>\n",
       "      <td>2.318465</td>\n",
       "    </tr>\n",
       "    <tr>\n",
       "      <th>26960</th>\n",
       "      <td>odds</td>\n",
       "      <td>2.318465</td>\n",
       "    </tr>\n",
       "    <tr>\n",
       "      <th>31700</th>\n",
       "      <td>relate</td>\n",
       "      <td>2.318465</td>\n",
       "    </tr>\n",
       "    <tr>\n",
       "      <th>3896</th>\n",
       "      <td>baguette</td>\n",
       "      <td>2.318465</td>\n",
       "    </tr>\n",
       "    <tr>\n",
       "      <th>29744</th>\n",
       "      <td>preach</td>\n",
       "      <td>2.318465</td>\n",
       "    </tr>\n",
       "    <tr>\n",
       "      <th>7042</th>\n",
       "      <td>checks</td>\n",
       "      <td>2.318465</td>\n",
       "    </tr>\n",
       "  </tbody>\n",
       "</table>\n",
       "<p>75 rows × 2 columns</p>\n",
       "</div>"
      ],
      "text/plain": [
       "               attributes exp_coeff\n",
       "                        0         0\n",
       "10775          disgusting  5.762925\n",
       "12602            epilogue  4.371521\n",
       "28749            pigtails  4.371521\n",
       "39984               tweet  3.985257\n",
       "6376                  car  3.811252\n",
       "22616                 lol  3.299299\n",
       "27002        office today  3.132402\n",
       "24355           men raped  3.081926\n",
       "40794           utc right  2.976530\n",
       "40793                 utc  2.976530\n",
       "31251             realize  2.955806\n",
       "20110          jozy chill  2.931903\n",
       "20109                jozy  2.931903\n",
       "37222       summer coming  2.919782\n",
       "22857          lord mercy  2.904624\n",
       "2909            apologies  2.885791\n",
       "2910   apologies accepted  2.885791\n",
       "29410                porn  2.873271\n",
       "42745               woman  2.864945\n",
       "31051               raped  2.855952\n",
       "36138            squanchy  2.840959\n",
       "11078        dog squanchy  2.840959\n",
       "10512         did realize  2.825106\n",
       "4939                bless  2.793269\n",
       "29149               point  2.774714\n",
       "1651             accepted  2.701244\n",
       "15452            gem wild  2.688300\n",
       "22977  love patientgamers  2.672087\n",
       "28027       patientgamers  2.672087\n",
       "22792       looks genuine  2.664302\n",
       "...                   ...       ...\n",
       "32553        roads canada  2.480786\n",
       "34605          shitty car  2.470476\n",
       "38346             therapy  2.465545\n",
       "28460           pettiness  2.464473\n",
       "1970             advanced  2.464473\n",
       "1971   advanced pettiness  2.464473\n",
       "21844                 lie  2.448301\n",
       "19393              invest  2.444008\n",
       "17432                hear  2.441336\n",
       "42553                wild  2.425917\n",
       "43062               worth  2.415517\n",
       "31166             reading  2.414164\n",
       "30361              proven  2.388896\n",
       "4946         bless proven  2.388896\n",
       "42471  wholesome simpsons  2.366911\n",
       "34965            simpsons  2.366911\n",
       "29839           president  2.349933\n",
       "16827            guy gets  2.331751\n",
       "21948              lights  2.326862\n",
       "24349                 men  2.325110\n",
       "27262            omegalul  2.318465\n",
       "8498              cookies  2.318465\n",
       "14933         friendzoned  2.318465\n",
       "12923           excessive  2.318465\n",
       "10108          delegation  2.318465\n",
       "26960                odds  2.318465\n",
       "31700              relate  2.318465\n",
       "3896             baguette  2.318465\n",
       "29744              preach  2.318465\n",
       "7042               checks  2.318465\n",
       "\n",
       "[75 rows x 2 columns]"
      ]
     },
     "execution_count": 56,
     "metadata": {},
     "output_type": "execute_result"
    }
   ],
   "source": [
    "exp_coeffs[0:75]"
   ]
  },
  {
   "cell_type": "markdown",
   "metadata": {},
   "source": [
    "#### Disturbing results...I am going to use `CountVectorizer` again only my 'success' class and see if we can dig deeper."
   ]
  },
  {
   "cell_type": "code",
   "execution_count": 57,
   "metadata": {},
   "outputs": [],
   "source": [
    "successful_words_train = counts.fit_transform(Xi[Xi['target']==1]['title'].values.astype('U'))\n",
    "#got this bit of code from StackOverflow, fixed an odd ValueError I was getting\n",
    "successful_words_train = successful_words_train.todense()"
   ]
  },
  {
   "cell_type": "code",
   "execution_count": 58,
   "metadata": {},
   "outputs": [
    {
     "data": {
      "text/plain": [
       "0    16797\n",
       "1     1221\n",
       "Name: target, dtype: int64"
      ]
     },
     "execution_count": 58,
     "metadata": {},
     "output_type": "execute_result"
    }
   ],
   "source": [
    "Xi['target'].value_counts()"
   ]
  },
  {
   "cell_type": "code",
   "execution_count": 59,
   "metadata": {},
   "outputs": [],
   "source": [
    "successful_words = pd.DataFrame(data=successful_words_train,\n",
    "                   columns=counts.get_feature_names())"
   ]
  },
  {
   "cell_type": "code",
   "execution_count": 60,
   "metadata": {},
   "outputs": [
    {
     "data": {
      "text/plain": [
       "new         54\n",
       "just        36\n",
       "like        34\n",
       "roseanne    33\n",
       "today       31\n",
       "people      27\n",
       "man         26\n",
       "old         25\n",
       "know        25\n",
       "til         24\n",
       "abc         24\n",
       "2018        23\n",
       "game        23\n",
       "don         23\n",
       "guy         23\n",
       "world       22\n",
       "car         22\n",
       "woman       22\n",
       "racist      22\n",
       "barr        21\n",
       "says        20\n",
       "11          19\n",
       "right       19\n",
       "thing       19\n",
       "really      18\n",
       "dtype: int64"
      ]
     },
     "execution_count": 60,
     "metadata": {},
     "output_type": "execute_result"
    }
   ],
   "source": [
    "successful_words.sum().sort_values(ascending=False)[0:25]"
   ]
  },
  {
   "cell_type": "markdown",
   "metadata": {},
   "source": [
    "##### That's definitely an improvement from our baseline, and even from our last model.\n",
    "#### Now that we've have resampled, let's clean the rest of our attributes so we can add them to our model."
   ]
  },
  {
   "cell_type": "markdown",
   "metadata": {},
   "source": [
    "### Cleaning\n",
    "#### Using `LabelBinarizer` on booleans & categoricals"
   ]
  },
  {
   "cell_type": "code",
   "execution_count": 61,
   "metadata": {},
   "outputs": [],
   "source": [
    "from sklearn.preprocessing import LabelBinarizer\n",
    "import scipy"
   ]
  },
  {
   "cell_type": "code",
   "execution_count": 62,
   "metadata": {},
   "outputs": [
    {
     "name": "stdout",
     "output_type": "stream",
     "text": [
      "public        5305\n",
      "restricted      21\n",
      "Name: subreddit_type, dtype: int64\n",
      "False    5272\n",
      "True       54\n",
      "Name: over_18, dtype: int64\n",
      "moderator    18\n",
      "Name: distinguished, dtype: int64\n",
      "False    5281\n",
      "True       45\n",
      "Name: stickied, dtype: int64\n",
      "False    5312\n",
      "True       14\n",
      "Name: locked, dtype: int64\n",
      "False    5126\n",
      "True      200\n",
      "Name: is_video, dtype: int64\n"
     ]
    }
   ],
   "source": [
    "bools = ['subreddit_type','over_18','distinguished',\n",
    "         'stickied','locked','is_video']\n",
    "#made a list of columns referencing .dtypes output above\n",
    "\n",
    "for column in dataset_boots[bools]:\n",
    "    print(dataset_boots[column].value_counts())\n",
    "    #checking each column's categories and distributions\n",
    "    #I eliminated some attributes using this"
   ]
  },
  {
   "cell_type": "code",
   "execution_count": 122,
   "metadata": {},
   "outputs": [],
   "source": [
    "#The moderator column looks funky. I'm going to fix it manually before running the binarizer\n",
    "\n",
    "dataset_boots['distinguished'].fillna(value=0, inplace=True)\n",
    "#correcting the NaNs for 0's to signify non-moderator\n",
    "\n",
    "dataset_boots['distinguished'].replace('moderator', 1, inplace=True)\n",
    "#filling in 1's for moderator status"
   ]
  },
  {
   "cell_type": "code",
   "execution_count": 123,
   "metadata": {
    "scrolled": true
   },
   "outputs": [
    {
     "data": {
      "text/plain": [
       "subreddit_type    0\n",
       "over_18           0\n",
       "distinguished     0\n",
       "stickied          0\n",
       "locked            0\n",
       "is_video          0\n",
       "dtype: int64"
      ]
     },
     "execution_count": 123,
     "metadata": {},
     "output_type": "execute_result"
    }
   ],
   "source": [
    "dataset_boots[bools].isnull().sum()"
   ]
  },
  {
   "cell_type": "code",
   "execution_count": 124,
   "metadata": {},
   "outputs": [
    {
     "name": "stdout",
     "output_type": "stream",
     "text": [
      "subreddit_type\n",
      "over_18\n",
      "distinguished\n",
      "stickied\n",
      "locked\n",
      "is_video\n"
     ]
    }
   ],
   "source": [
    "lb = LabelBinarizer()\n",
    "\n",
    "for column in dataset_boots[bools]:\n",
    "    print(column)\n",
    "    try:\n",
    "        lb.fit(dataset_boots[column])\n",
    "        dataset_boots[column] = lb.transform(dataset_boots[column])\n",
    "    except ValueError:\n",
    "        print(column+' needs cleaning!')\n",
    "        \n",
    "    #putting my LabelBinarizer into a for loop to run column by column and alert me if something doesn't binarize properly\n",
    "    #I solved a few bugs with this"
   ]
  },
  {
   "cell_type": "code",
   "execution_count": 125,
   "metadata": {
    "scrolled": true
   },
   "outputs": [
    {
     "name": "stdout",
     "output_type": "stream",
     "text": [
      "subreddit_type\n",
      "over_18\n",
      "distinguished\n",
      "distinguished needs cleaning!\n",
      "stickied\n",
      "locked\n",
      "is_video\n"
     ]
    },
    {
     "name": "stderr",
     "output_type": "stream",
     "text": [
      "/anaconda3/envs/dsi/lib/python3.6/site-packages/ipykernel/__main__.py:4: SettingWithCopyWarning: \n",
      "A value is trying to be set on a copy of a slice from a DataFrame.\n",
      "Try using .loc[row_indexer,col_indexer] = value instead\n",
      "\n",
      "See the caveats in the documentation: http://pandas.pydata.org/pandas-docs/stable/indexing.html#indexing-view-versus-copy\n"
     ]
    }
   ],
   "source": [
    "for column in testX[bools]:\n",
    "    print(column)\n",
    "    try:\n",
    "        testX[column] = lb.transform(testX[column])\n",
    "    except ValueError:\n",
    "        print(column+' needs cleaning!')"
   ]
  },
  {
   "cell_type": "code",
   "execution_count": 126,
   "metadata": {},
   "outputs": [
    {
     "name": "stderr",
     "output_type": "stream",
     "text": [
      "/anaconda3/envs/dsi/lib/python3.6/site-packages/pandas/core/generic.py:4355: SettingWithCopyWarning: \n",
      "A value is trying to be set on a copy of a slice from a DataFrame\n",
      "\n",
      "See the caveats in the documentation: http://pandas.pydata.org/pandas-docs/stable/indexing.html#indexing-view-versus-copy\n",
      "  self._update_inplace(new_data)\n",
      "/anaconda3/envs/dsi/lib/python3.6/site-packages/pandas/core/generic.py:4619: SettingWithCopyWarning: \n",
      "A value is trying to be set on a copy of a slice from a DataFrame\n",
      "\n",
      "See the caveats in the documentation: http://pandas.pydata.org/pandas-docs/stable/indexing.html#indexing-view-versus-copy\n",
      "  self._update_inplace(new_data)\n"
     ]
    }
   ],
   "source": [
    "testX['distinguished'].fillna(value=0, inplace=True)\n",
    "#correcting the NaNs for 0's to signify non-moderator\n",
    "\n",
    "testX['distinguished'].replace('moderator', 1, inplace=True)\n",
    "#filling in 1's for moderator status"
   ]
  },
  {
   "cell_type": "code",
   "execution_count": 127,
   "metadata": {},
   "outputs": [
    {
     "data": {
      "text/html": [
       "<div>\n",
       "<style scoped>\n",
       "    .dataframe tbody tr th:only-of-type {\n",
       "        vertical-align: middle;\n",
       "    }\n",
       "\n",
       "    .dataframe tbody tr th {\n",
       "        vertical-align: top;\n",
       "    }\n",
       "\n",
       "    .dataframe thead th {\n",
       "        text-align: right;\n",
       "    }\n",
       "</style>\n",
       "<table border=\"1\" class=\"dataframe\">\n",
       "  <thead>\n",
       "    <tr style=\"text-align: right;\">\n",
       "      <th></th>\n",
       "      <th>comments</th>\n",
       "      <th>title</th>\n",
       "      <th>subreddit</th>\n",
       "      <th>subreddit_subscribers</th>\n",
       "      <th>subreddit_type</th>\n",
       "      <th>time_since_posted</th>\n",
       "      <th>over_18</th>\n",
       "      <th>distinguished</th>\n",
       "      <th>stickied</th>\n",
       "      <th>locked</th>\n",
       "      <th>num_crossposts</th>\n",
       "      <th>is_video</th>\n",
       "    </tr>\n",
       "  </thead>\n",
       "  <tbody>\n",
       "    <tr>\n",
       "      <th>1897</th>\n",
       "      <td>19</td>\n",
       "      <td>My humble commuter</td>\n",
       "      <td>FixedGearBicycle</td>\n",
       "      <td>35273</td>\n",
       "      <td>0</td>\n",
       "      <td>1.525902e+12</td>\n",
       "      <td>0</td>\n",
       "      <td>0</td>\n",
       "      <td>0</td>\n",
       "      <td>0</td>\n",
       "      <td>0</td>\n",
       "      <td>0</td>\n",
       "    </tr>\n",
       "    <tr>\n",
       "      <th>1985</th>\n",
       "      <td>6</td>\n",
       "      <td>mew_irl</td>\n",
       "      <td>mew_irl</td>\n",
       "      <td>4973</td>\n",
       "      <td>0</td>\n",
       "      <td>1.525902e+12</td>\n",
       "      <td>0</td>\n",
       "      <td>0</td>\n",
       "      <td>0</td>\n",
       "      <td>0</td>\n",
       "      <td>0</td>\n",
       "      <td>0</td>\n",
       "    </tr>\n",
       "    <tr>\n",
       "      <th>3983</th>\n",
       "      <td>26</td>\n",
       "      <td>furry🎸irl</td>\n",
       "      <td>furry_irl</td>\n",
       "      <td>33232</td>\n",
       "      <td>0</td>\n",
       "      <td>1.525902e+12</td>\n",
       "      <td>0</td>\n",
       "      <td>0</td>\n",
       "      <td>0</td>\n",
       "      <td>0</td>\n",
       "      <td>0</td>\n",
       "      <td>0</td>\n",
       "    </tr>\n",
       "    <tr>\n",
       "      <th>7471</th>\n",
       "      <td>46</td>\n",
       "      <td>This Rabbit always brings joy in the mornings,...</td>\n",
       "      <td>Rabbits</td>\n",
       "      <td>66675</td>\n",
       "      <td>0</td>\n",
       "      <td>1.525902e+12</td>\n",
       "      <td>0</td>\n",
       "      <td>0</td>\n",
       "      <td>0</td>\n",
       "      <td>0</td>\n",
       "      <td>0</td>\n",
       "      <td>1</td>\n",
       "    </tr>\n",
       "    <tr>\n",
       "      <th>13289</th>\n",
       "      <td>715</td>\n",
       "      <td>TIL that during the filming for The Order of t...</td>\n",
       "      <td>todayilearned</td>\n",
       "      <td>18831601</td>\n",
       "      <td>0</td>\n",
       "      <td>1.525902e+12</td>\n",
       "      <td>0</td>\n",
       "      <td>0</td>\n",
       "      <td>0</td>\n",
       "      <td>0</td>\n",
       "      <td>1</td>\n",
       "      <td>0</td>\n",
       "    </tr>\n",
       "  </tbody>\n",
       "</table>\n",
       "</div>"
      ],
      "text/plain": [
       "       comments                                              title  \\\n",
       "1897         19                                 My humble commuter   \n",
       "1985          6                                            mew_irl   \n",
       "3983         26                                          furry🎸irl   \n",
       "7471         46  This Rabbit always brings joy in the mornings,...   \n",
       "13289       715  TIL that during the filming for The Order of t...   \n",
       "\n",
       "              subreddit  subreddit_subscribers  subreddit_type  \\\n",
       "1897   FixedGearBicycle                  35273               0   \n",
       "1985            mew_irl                   4973               0   \n",
       "3983          furry_irl                  33232               0   \n",
       "7471            Rabbits                  66675               0   \n",
       "13289     todayilearned               18831601               0   \n",
       "\n",
       "       time_since_posted  over_18  distinguished  stickied  locked  \\\n",
       "1897        1.525902e+12        0              0         0       0   \n",
       "1985        1.525902e+12        0              0         0       0   \n",
       "3983        1.525902e+12        0              0         0       0   \n",
       "7471        1.525902e+12        0              0         0       0   \n",
       "13289       1.525902e+12        0              0         0       0   \n",
       "\n",
       "       num_crossposts  is_video  \n",
       "1897                0         0  \n",
       "1985                0         0  \n",
       "3983                0         0  \n",
       "7471                0         1  \n",
       "13289               1         0  "
      ]
     },
     "execution_count": 127,
     "metadata": {},
     "output_type": "execute_result"
    }
   ],
   "source": [
    "testX.head()"
   ]
  },
  {
   "cell_type": "code",
   "execution_count": 128,
   "metadata": {
    "scrolled": true
   },
   "outputs": [
    {
     "name": "stdout",
     "output_type": "stream",
     "text": [
      "0    5305\n",
      "1      21\n",
      "Name: subreddit_type, dtype: int64\n",
      "0    5272\n",
      "1      54\n",
      "Name: over_18, dtype: int64\n",
      "0    5308\n",
      "1      18\n",
      "Name: distinguished, dtype: int64\n",
      "0    5281\n",
      "1      45\n",
      "Name: stickied, dtype: int64\n",
      "0    5312\n",
      "1      14\n",
      "Name: locked, dtype: int64\n",
      "0    5126\n",
      "1     200\n",
      "Name: is_video, dtype: int64\n"
     ]
    }
   ],
   "source": [
    "for column in dataset_boots[bools]:\n",
    "    print(dataset_boots[column].value_counts())"
   ]
  },
  {
   "cell_type": "code",
   "execution_count": 129,
   "metadata": {},
   "outputs": [],
   "source": [
    "#Quickly making another dictionary to house interpretations of booleans\n",
    "booleans = pd.DataFrame()\n",
    "booleans['attribute'] = ['subreddit_type',\n",
    "                         'over_18',\n",
    "                         'distinguished',\n",
    "                         'stickied',\n",
    "                         'locked',\n",
    "                         'is_video'\n",
    "                         ]\n",
    "\n",
    "booleans['0'] = ['public',\n",
    "                   'no',\n",
    "                   'not a moderator',\n",
    "                   'no',\n",
    "                   'no',\n",
    "                   'no']\n",
    "\n",
    "booleans['1'] = ['restricted',\n",
    "                 'yes',\n",
    "                 'moderator',\n",
    "                 'yes',\n",
    "                 'yes',\n",
    "                 'yes']"
   ]
  },
  {
   "cell_type": "markdown",
   "metadata": {},
   "source": [
    "### Cleaning\n",
    "#### Using `CountVectorizer` on `subreddit` to create dummies"
   ]
  },
  {
   "cell_type": "markdown",
   "metadata": {},
   "source": [
    "### Model 3\n",
    "#### `CVEC` output for `subreddit`"
   ]
  },
  {
   "cell_type": "code",
   "execution_count": 130,
   "metadata": {},
   "outputs": [],
   "source": [
    "cvec_subreddit = CountVectorizer(lowercase=True)\n",
    "cvec_subreddit.fit(dataset_boots['subreddit'])\n",
    "train_subreddit_dummies = cvec_subreddit.transform(dataset_boots['subreddit'])\n",
    "test_subreddit_dummies = cvec_subreddit.transform(testX['subreddit'])"
   ]
  },
  {
   "cell_type": "markdown",
   "metadata": {},
   "source": [
    "###### Quickly going to save all my attributes back together"
   ]
  },
  {
   "cell_type": "code",
   "execution_count": 131,
   "metadata": {},
   "outputs": [],
   "source": [
    "trainX_boots = scipy.sparse.hstack([scipy.sparse.csr_matrix(dataset_boots[bools]),\n",
    "                                    dataset_boots[['subreddit_subscribers',\n",
    "                                    'time_since_posted']],\n",
    "                                    train_title_cvec,\n",
    "                                    train_subreddit_dummies]\n",
    "                                  )\n",
    "\n",
    "testX_boots = scipy.sparse.hstack([scipy.sparse.csr_matrix(testX[bools]),\n",
    "                                   testX[['subreddit_subscribers',\n",
    "                                          'time_since_posted']],\n",
    "                                   test_title_cvec,\n",
    "                                   test_subreddit_dummies]\n",
    "                                 )\n",
    "\n",
    "#pulling all the data back together to run a model"
   ]
  },
  {
   "cell_type": "code",
   "execution_count": 5,
   "metadata": {},
   "outputs": [],
   "source": [
    "full_attribute_set = bools + ['subreddit_subscribers', 'time_posted'] + counts.get_feature_names() + cvec_subreddit.get_feature_names()\n",
    "full_attribute_set;\n",
    "#making list of attributes for my coef_ interpretation"
   ]
  },
  {
   "cell_type": "code",
   "execution_count": 133,
   "metadata": {},
   "outputs": [
    {
     "data": {
      "text/plain": [
       "0"
      ]
     },
     "execution_count": 133,
     "metadata": {},
     "output_type": "execute_result"
    }
   ],
   "source": [
    "pd.Series(full_attribute_set).isnull().sum()"
   ]
  },
  {
   "cell_type": "markdown",
   "metadata": {},
   "source": [
    "##### Now that I created my full dataset I'm going to run `StandardScaler` on only subreddit dummies and build a single model to gain insight on what subreddit is most influential in determining successful interaction."
   ]
  },
  {
   "cell_type": "code",
   "execution_count": 134,
   "metadata": {},
   "outputs": [
    {
     "name": "stderr",
     "output_type": "stream",
     "text": [
      "/anaconda3/envs/dsi/lib/python3.6/site-packages/sklearn/utils/validation.py:475: DataConversionWarning: Data with input dtype int64 was converted to float64 by StandardScaler.\n",
      "  warnings.warn(msg, DataConversionWarning)\n"
     ]
    },
    {
     "data": {
      "text/plain": [
       "StandardScaler(copy=True, with_mean=False, with_std=True)"
      ]
     },
     "execution_count": 134,
     "metadata": {},
     "output_type": "execute_result"
    }
   ],
   "source": [
    "from sklearn.preprocessing import StandardScaler\n",
    "ss = StandardScaler(with_mean=False)\n",
    "ss.fit(X=train_subreddit_dummies, y=None)"
   ]
  },
  {
   "cell_type": "code",
   "execution_count": 135,
   "metadata": {
    "scrolled": true
   },
   "outputs": [
    {
     "name": "stderr",
     "output_type": "stream",
     "text": [
      "/anaconda3/envs/dsi/lib/python3.6/site-packages/sklearn/utils/validation.py:475: DataConversionWarning: Data with input dtype int64 was converted to float64 by StandardScaler.\n",
      "  warnings.warn(msg, DataConversionWarning)\n"
     ]
    }
   ],
   "source": [
    "train_dummies = ss.transform(train_subreddit_dummies)\n",
    "test_dummies = ss.transform(test_subreddit_dummies)"
   ]
  },
  {
   "cell_type": "code",
   "execution_count": 136,
   "metadata": {
    "scrolled": true
   },
   "outputs": [
    {
     "data": {
      "text/plain": [
       "LinearRegression(copy_X=True, fit_intercept=True, n_jobs=1, normalize=False)"
      ]
     },
     "execution_count": 136,
     "metadata": {},
     "output_type": "execute_result"
    }
   ],
   "source": [
    "from sklearn.linear_model import LinearRegression\n",
    "lr_subreddit = LinearRegression()\n",
    "lr_subreddit.fit(train_dummies, np.sqrt(dataset_boots['comments']))"
   ]
  },
  {
   "cell_type": "code",
   "execution_count": 137,
   "metadata": {
    "scrolled": true
   },
   "outputs": [
    {
     "data": {
      "text/plain": [
       "0.11014836415474671"
      ]
     },
     "execution_count": 137,
     "metadata": {},
     "output_type": "execute_result"
    }
   ],
   "source": [
    "lr_subreddit.score(test_dummies, np.sqrt(testX['comments']))"
   ]
  },
  {
   "cell_type": "markdown",
   "metadata": {},
   "source": [
    "##### AAh that's bad let's try `LogReg` with class as output"
   ]
  },
  {
   "cell_type": "code",
   "execution_count": 138,
   "metadata": {},
   "outputs": [
    {
     "data": {
      "text/plain": [
       "LogisticRegression(C=1.0, class_weight=None, dual=False, fit_intercept=True,\n",
       "          intercept_scaling=1, max_iter=100, multi_class='ovr', n_jobs=1,\n",
       "          penalty='l2', random_state=None, solver='liblinear', tol=0.0001,\n",
       "          verbose=0, warm_start=False)"
      ]
     },
     "execution_count": 138,
     "metadata": {},
     "output_type": "execute_result"
    }
   ],
   "source": [
    "lr_subreddit = LogisticRegression()\n",
    "lr_subreddit.fit(train_dummies, ((dataset_boots['comments'])>175))"
   ]
  },
  {
   "cell_type": "code",
   "execution_count": 139,
   "metadata": {
    "scrolled": false
   },
   "outputs": [
    {
     "data": {
      "text/plain": [
       "0.904550499445061"
      ]
     },
     "execution_count": 139,
     "metadata": {},
     "output_type": "execute_result"
    }
   ],
   "source": [
    "lr_subreddit.score(test_dummies, ((testX['comments']>175)))"
   ]
  },
  {
   "cell_type": "code",
   "execution_count": 140,
   "metadata": {},
   "outputs": [],
   "source": [
    "#confusion matrix\n",
    "from sklearn.metrics import confusion_matrix\n",
    "\n",
    "cm = confusion_matrix(target_test, lr_subreddit.predict(test_dummies))"
   ]
  },
  {
   "cell_type": "code",
   "execution_count": 141,
   "metadata": {},
   "outputs": [
    {
     "data": {
      "text/plain": [
       "array([[4792,  219],\n",
       "       [ 297,   98]])"
      ]
     },
     "execution_count": 141,
     "metadata": {},
     "output_type": "execute_result"
    }
   ],
   "source": [
    "cm"
   ]
  },
  {
   "cell_type": "code",
   "execution_count": 145,
   "metadata": {},
   "outputs": [
    {
     "name": "stdout",
     "output_type": "stream",
     "text": [
      "The false positive rate was:  0.04370385152664139 \n",
      "The false negative rate was:  0.7518987341772152\n"
     ]
    }
   ],
   "source": [
    "print('The false positive rate was: ', 219/(219+4792),\n",
    "     '\\nThe false negative rate was: ', 297/(297+98))"
   ]
  },
  {
   "cell_type": "markdown",
   "metadata": {},
   "source": [
    "#### Not only did our accuracy score decrease, that decrease is mostly related to an increase in false negative rates!\n",
    "##### Since this model is one we are using to explore impactful attributes, that's an acceptable, but not ideal score.\n",
    "##### I would also keep exploring how to make my score better, but `GridSearch` keeps shutting down my kernel..."
   ]
  },
  {
   "cell_type": "markdown",
   "metadata": {},
   "source": [
    "<a id='impactful subreddits'></a>"
   ]
  },
  {
   "cell_type": "code",
   "execution_count": 146,
   "metadata": {},
   "outputs": [
    {
     "data": {
      "text/html": [
       "<div>\n",
       "<style scoped>\n",
       "    .dataframe tbody tr th:only-of-type {\n",
       "        vertical-align: middle;\n",
       "    }\n",
       "\n",
       "    .dataframe tbody tr th {\n",
       "        vertical-align: top;\n",
       "    }\n",
       "\n",
       "    .dataframe thead tr th {\n",
       "        text-align: left;\n",
       "    }\n",
       "</style>\n",
       "<table border=\"1\" class=\"dataframe\">\n",
       "  <thead>\n",
       "    <tr>\n",
       "      <th></th>\n",
       "      <th>attributes</th>\n",
       "      <th>coeff</th>\n",
       "    </tr>\n",
       "    <tr>\n",
       "      <th></th>\n",
       "      <th>0</th>\n",
       "      <th>0</th>\n",
       "    </tr>\n",
       "  </thead>\n",
       "  <tbody>\n",
       "    <tr>\n",
       "      <th>85</th>\n",
       "      <td>askreddit</td>\n",
       "      <td>1.382609</td>\n",
       "    </tr>\n",
       "    <tr>\n",
       "      <th>681</th>\n",
       "      <td>iama</td>\n",
       "      <td>1.259324</td>\n",
       "    </tr>\n",
       "    <tr>\n",
       "      <th>1166</th>\n",
       "      <td>roastme</td>\n",
       "      <td>1.259324</td>\n",
       "    </tr>\n",
       "    <tr>\n",
       "      <th>1467</th>\n",
       "      <td>unpopularopinion</td>\n",
       "      <td>1.259324</td>\n",
       "    </tr>\n",
       "    <tr>\n",
       "      <th>1061</th>\n",
       "      <td>personalfinance</td>\n",
       "      <td>1.259324</td>\n",
       "    </tr>\n",
       "    <tr>\n",
       "      <th>1072</th>\n",
       "      <td>pics</td>\n",
       "      <td>1.225098</td>\n",
       "    </tr>\n",
       "    <tr>\n",
       "      <th>520</th>\n",
       "      <td>fortnitebr</td>\n",
       "      <td>1.222990</td>\n",
       "    </tr>\n",
       "    <tr>\n",
       "      <th>89</th>\n",
       "      <td>askwomen</td>\n",
       "      <td>1.221035</td>\n",
       "    </tr>\n",
       "    <tr>\n",
       "      <th>364</th>\n",
       "      <td>dataisbeautiful</td>\n",
       "      <td>1.221035</td>\n",
       "    </tr>\n",
       "    <tr>\n",
       "      <th>327</th>\n",
       "      <td>cringepics</td>\n",
       "      <td>1.221035</td>\n",
       "    </tr>\n",
       "    <tr>\n",
       "      <th>1350</th>\n",
       "      <td>television</td>\n",
       "      <td>1.216458</td>\n",
       "    </tr>\n",
       "    <tr>\n",
       "      <th>973</th>\n",
       "      <td>news</td>\n",
       "      <td>1.204314</td>\n",
       "    </tr>\n",
       "    <tr>\n",
       "      <th>549</th>\n",
       "      <td>gameofthrones</td>\n",
       "      <td>1.177114</td>\n",
       "    </tr>\n",
       "    <tr>\n",
       "      <th>821</th>\n",
       "      <td>lifehacks</td>\n",
       "      <td>1.177114</td>\n",
       "    </tr>\n",
       "    <tr>\n",
       "      <th>1301</th>\n",
       "      <td>stlouis</td>\n",
       "      <td>1.177114</td>\n",
       "    </tr>\n",
       "    <tr>\n",
       "      <th>453</th>\n",
       "      <td>entertainment</td>\n",
       "      <td>1.177114</td>\n",
       "    </tr>\n",
       "    <tr>\n",
       "      <th>626</th>\n",
       "      <td>happy</td>\n",
       "      <td>1.177114</td>\n",
       "    </tr>\n",
       "    <tr>\n",
       "      <th>1311</th>\n",
       "      <td>subredditdrama</td>\n",
       "      <td>1.177114</td>\n",
       "    </tr>\n",
       "    <tr>\n",
       "      <th>149</th>\n",
       "      <td>beta</td>\n",
       "      <td>1.177114</td>\n",
       "    </tr>\n",
       "    <tr>\n",
       "      <th>496</th>\n",
       "      <td>financialindependence</td>\n",
       "      <td>1.177114</td>\n",
       "    </tr>\n",
       "  </tbody>\n",
       "</table>\n",
       "</div>"
      ],
      "text/plain": [
       "                 attributes     coeff\n",
       "                          0         0\n",
       "85                askreddit  1.382609\n",
       "681                    iama  1.259324\n",
       "1166                roastme  1.259324\n",
       "1467       unpopularopinion  1.259324\n",
       "1061        personalfinance  1.259324\n",
       "1072                   pics  1.225098\n",
       "520              fortnitebr  1.222990\n",
       "89                 askwomen  1.221035\n",
       "364         dataisbeautiful  1.221035\n",
       "327              cringepics  1.221035\n",
       "1350             television  1.216458\n",
       "973                    news  1.204314\n",
       "549           gameofthrones  1.177114\n",
       "821               lifehacks  1.177114\n",
       "1301                stlouis  1.177114\n",
       "453           entertainment  1.177114\n",
       "626                   happy  1.177114\n",
       "1311         subredditdrama  1.177114\n",
       "149                    beta  1.177114\n",
       "496   financialindependence  1.177114"
      ]
     },
     "execution_count": 146,
     "metadata": {},
     "output_type": "execute_result"
    }
   ],
   "source": [
    "exp_coeff_subreddit = pd.concat([pd.Series(cvec_subreddit.get_feature_names()),\n",
    "                       pd.DataFrame(np.exp(lr_subreddit.coef_)).T],\n",
    "                     axis=1,\n",
    "                     keys=['attributes', 'coeff'])\n",
    "exp_coeff_subreddit.dropna()\n",
    "exp_coeff_subreddit.sort_values([('coeff', 0)], ascending=False, inplace=True)\n",
    "exp_coeff_subreddit.head(20)"
   ]
  },
  {
   "cell_type": "code",
   "execution_count": 147,
   "metadata": {
    "scrolled": true
   },
   "outputs": [
    {
     "data": {
      "text/plain": [
       "FortNiteBR            36\n",
       "funny                 33\n",
       "AskReddit             33\n",
       "pics                  27\n",
       "gaming                23\n",
       "aww                   18\n",
       "NintendoSwitch        17\n",
       "news                  17\n",
       "todayilearned         16\n",
       "television            15\n",
       "MemeEconomy           12\n",
       "worldnews             12\n",
       "mildlyinteresting     11\n",
       "europe                10\n",
       "gifs                   9\n",
       "MMA                    8\n",
       "videos                 8\n",
       "BlackPeopleTwitter     8\n",
       "Showerthoughts         7\n",
       "nintendo               7\n",
       "Name: subreddit, dtype: int64"
      ]
     },
     "execution_count": 147,
     "metadata": {},
     "output_type": "execute_result"
    }
   ],
   "source": [
    "min_class.sort_values(by='subreddit_subscribers', ascending=False)['subreddit'].value_counts()[0:20]"
   ]
  },
  {
   "cell_type": "code",
   "execution_count": 148,
   "metadata": {},
   "outputs": [
    {
     "data": {
      "text/plain": [
       "(2809, 19608208)"
      ]
     },
     "execution_count": 148,
     "metadata": {},
     "output_type": "execute_result"
    }
   ],
   "source": [
    "min_class['subreddit_subscribers'].min(),min_class['subreddit_subscribers'].max()\n",
    "#checking the range in size of subscribers"
   ]
  },
  {
   "cell_type": "code",
   "execution_count": 149,
   "metadata": {},
   "outputs": [
    {
     "data": {
      "text/plain": [
       "array([[1.        , 0.17455906],\n",
       "       [0.17455906, 1.        ]])"
      ]
     },
     "execution_count": 149,
     "metadata": {},
     "output_type": "execute_result"
    }
   ],
   "source": [
    "np.corrcoef(x=Xi['comments'], y=Xi['subreddit_subscribers'])\n",
    "#Checking to see if there is a generally strong correlation between subreddit subscribers and comments.\n",
    "#As expcted, they are not."
   ]
  },
  {
   "cell_type": "markdown",
   "metadata": {},
   "source": [
    "#### Now that we spent some time on that informational tangent, let's build another model.\n",
    "##### This one will take in *all transformed inputs*"
   ]
  },
  {
   "cell_type": "code",
   "execution_count": 150,
   "metadata": {},
   "outputs": [
    {
     "data": {
      "text/plain": [
       "0.9252682204957454"
      ]
     },
     "execution_count": 150,
     "metadata": {},
     "output_type": "execute_result"
    }
   ],
   "source": [
    "lr_3 = LogisticRegression(penalty='l1', C=0.5)\n",
    "lr_3.fit(trainX_boots, target_train)\n",
    "lr_3.score(testX_boots, target_test)"
   ]
  },
  {
   "cell_type": "code",
   "execution_count": 152,
   "metadata": {},
   "outputs": [
    {
     "data": {
      "text/plain": [
       "array([[4792,  219],\n",
       "       [ 297,   98]])"
      ]
     },
     "execution_count": 152,
     "metadata": {},
     "output_type": "execute_result"
    }
   ],
   "source": [
    "cm = confusion_matrix(target_test, lr_subreddit.predict(test_dummies))\n",
    "cm"
   ]
  },
  {
   "cell_type": "code",
   "execution_count": 153,
   "metadata": {},
   "outputs": [
    {
     "name": "stdout",
     "output_type": "stream",
     "text": [
      "The false positive rate was:  0.01237277988425464 \n",
      "The false negative rate was:  0.6455696202531646\n"
     ]
    }
   ],
   "source": [
    "print('The false positive rate was: ', 62/(4949+62),\n",
    "     '\\nThe false negative rate was: ', 255/(255+140))"
   ]
  },
  {
   "cell_type": "markdown",
   "metadata": {},
   "source": [
    "#### Ok that's not great."
   ]
  },
  {
   "cell_type": "code",
   "execution_count": 154,
   "metadata": {},
   "outputs": [
    {
     "data": {
      "text/plain": [
       "array([[0.        , 0.        , 0.23140532, ..., 0.        , 0.        ,\n",
       "        0.        ]])"
      ]
     },
     "execution_count": 154,
     "metadata": {},
     "output_type": "execute_result"
    }
   ],
   "source": [
    "lr_3.coef_"
   ]
  },
  {
   "cell_type": "markdown",
   "metadata": {},
   "source": [
    "<a id='complete model'></a>"
   ]
  },
  {
   "cell_type": "code",
   "execution_count": 158,
   "metadata": {
    "scrolled": true
   },
   "outputs": [
    {
     "data": {
      "text/html": [
       "<div>\n",
       "<style scoped>\n",
       "    .dataframe tbody tr th:only-of-type {\n",
       "        vertical-align: middle;\n",
       "    }\n",
       "\n",
       "    .dataframe tbody tr th {\n",
       "        vertical-align: top;\n",
       "    }\n",
       "\n",
       "    .dataframe thead tr th {\n",
       "        text-align: left;\n",
       "    }\n",
       "</style>\n",
       "<table border=\"1\" class=\"dataframe\">\n",
       "  <thead>\n",
       "    <tr>\n",
       "      <th></th>\n",
       "      <th>attributes</th>\n",
       "      <th>coeff</th>\n",
       "    </tr>\n",
       "    <tr>\n",
       "      <th></th>\n",
       "      <th>0</th>\n",
       "      <th>0</th>\n",
       "    </tr>\n",
       "  </thead>\n",
       "  <tbody>\n",
       "    <tr>\n",
       "      <th>44965</th>\n",
       "      <td>roastme</td>\n",
       "      <td>9.743455</td>\n",
       "    </tr>\n",
       "    <tr>\n",
       "      <th>4</th>\n",
       "      <td>locked</td>\n",
       "      <td>8.458655</td>\n",
       "    </tr>\n",
       "    <tr>\n",
       "      <th>44071</th>\n",
       "      <td>choosingbeggars</td>\n",
       "      <td>7.841628</td>\n",
       "    </tr>\n",
       "    <tr>\n",
       "      <th>44663</th>\n",
       "      <td>mapporn</td>\n",
       "      <td>7.730517</td>\n",
       "    </tr>\n",
       "    <tr>\n",
       "      <th>45266</th>\n",
       "      <td>unpopularopinion</td>\n",
       "      <td>7.464310</td>\n",
       "    </tr>\n",
       "    <tr>\n",
       "      <th>1993</th>\n",
       "      <td>advice</td>\n",
       "      <td>6.020257</td>\n",
       "    </tr>\n",
       "    <tr>\n",
       "      <th>4947</th>\n",
       "      <td>bless</td>\n",
       "      <td>5.616462</td>\n",
       "    </tr>\n",
       "    <tr>\n",
       "      <th>44319</th>\n",
       "      <td>fortnitebr</td>\n",
       "      <td>5.556610</td>\n",
       "    </tr>\n",
       "    <tr>\n",
       "      <th>44694</th>\n",
       "      <td>memeeconomy</td>\n",
       "      <td>5.456018</td>\n",
       "    </tr>\n",
       "    <tr>\n",
       "      <th>44782</th>\n",
       "      <td>nintendo</td>\n",
       "      <td>5.078307</td>\n",
       "    </tr>\n",
       "    <tr>\n",
       "      <th>44259</th>\n",
       "      <td>europe</td>\n",
       "      <td>4.861763</td>\n",
       "    </tr>\n",
       "    <tr>\n",
       "      <th>43884</th>\n",
       "      <td>askreddit</td>\n",
       "      <td>4.801320</td>\n",
       "    </tr>\n",
       "    <tr>\n",
       "      <th>44481</th>\n",
       "      <td>iamverybadass</td>\n",
       "      <td>4.605118</td>\n",
       "    </tr>\n",
       "    <tr>\n",
       "      <th>6384</th>\n",
       "      <td>car</td>\n",
       "      <td>4.399670</td>\n",
       "    </tr>\n",
       "    <tr>\n",
       "      <th>44724</th>\n",
       "      <td>mma</td>\n",
       "      <td>4.296571</td>\n",
       "    </tr>\n",
       "    <tr>\n",
       "      <th>42753</th>\n",
       "      <td>woman</td>\n",
       "      <td>4.196522</td>\n",
       "    </tr>\n",
       "    <tr>\n",
       "      <th>44903</th>\n",
       "      <td>programming</td>\n",
       "      <td>3.945319</td>\n",
       "    </tr>\n",
       "    <tr>\n",
       "      <th>4038</th>\n",
       "      <td>barr</td>\n",
       "      <td>3.868257</td>\n",
       "    </tr>\n",
       "    <tr>\n",
       "      <th>43888</th>\n",
       "      <td>askwomen</td>\n",
       "      <td>3.717675</td>\n",
       "    </tr>\n",
       "    <tr>\n",
       "      <th>39688</th>\n",
       "      <td>trinity mobile</td>\n",
       "      <td>3.660916</td>\n",
       "    </tr>\n",
       "    <tr>\n",
       "      <th>44134</th>\n",
       "      <td>cryptocurrency</td>\n",
       "      <td>3.633229</td>\n",
       "    </tr>\n",
       "    <tr>\n",
       "      <th>44528</th>\n",
       "      <td>ireland</td>\n",
       "      <td>3.554978</td>\n",
       "    </tr>\n",
       "    <tr>\n",
       "      <th>35369</th>\n",
       "      <td>smash</td>\n",
       "      <td>3.513027</td>\n",
       "    </tr>\n",
       "    <tr>\n",
       "      <th>44652</th>\n",
       "      <td>madlads</td>\n",
       "      <td>3.464141</td>\n",
       "    </tr>\n",
       "    <tr>\n",
       "      <th>17440</th>\n",
       "      <td>hear</td>\n",
       "      <td>3.409254</td>\n",
       "    </tr>\n",
       "    <tr>\n",
       "      <th>44910</th>\n",
       "      <td>pubattlegrounds</td>\n",
       "      <td>3.379073</td>\n",
       "    </tr>\n",
       "    <tr>\n",
       "      <th>5633</th>\n",
       "      <td>britain</td>\n",
       "      <td>3.324158</td>\n",
       "    </tr>\n",
       "    <tr>\n",
       "      <th>14732</th>\n",
       "      <td>fox news</td>\n",
       "      <td>3.227580</td>\n",
       "    </tr>\n",
       "    <tr>\n",
       "      <th>22616</th>\n",
       "      <td>logo</td>\n",
       "      <td>3.223740</td>\n",
       "    </tr>\n",
       "    <tr>\n",
       "      <th>21852</th>\n",
       "      <td>lie</td>\n",
       "      <td>3.204521</td>\n",
       "    </tr>\n",
       "    <tr>\n",
       "      <th>...</th>\n",
       "      <td>...</td>\n",
       "      <td>...</td>\n",
       "    </tr>\n",
       "    <tr>\n",
       "      <th>9675</th>\n",
       "      <td>day</td>\n",
       "      <td>0.865003</td>\n",
       "    </tr>\n",
       "    <tr>\n",
       "      <th>27417</th>\n",
       "      <td>orange</td>\n",
       "      <td>0.863824</td>\n",
       "    </tr>\n",
       "    <tr>\n",
       "      <th>3853</th>\n",
       "      <td>bad</td>\n",
       "      <td>0.851666</td>\n",
       "    </tr>\n",
       "    <tr>\n",
       "      <th>4480</th>\n",
       "      <td>best</td>\n",
       "      <td>0.847941</td>\n",
       "    </tr>\n",
       "    <tr>\n",
       "      <th>44172</th>\n",
       "      <td>deepfriedmemes</td>\n",
       "      <td>0.843883</td>\n",
       "    </tr>\n",
       "    <tr>\n",
       "      <th>31197</th>\n",
       "      <td>real</td>\n",
       "      <td>0.837193</td>\n",
       "    </tr>\n",
       "    <tr>\n",
       "      <th>29506</th>\n",
       "      <td>post</td>\n",
       "      <td>0.819798</td>\n",
       "    </tr>\n",
       "    <tr>\n",
       "      <th>45335</th>\n",
       "      <td>worldnews</td>\n",
       "      <td>0.810027</td>\n",
       "    </tr>\n",
       "    <tr>\n",
       "      <th>44861</th>\n",
       "      <td>pewdiepiesubmissions</td>\n",
       "      <td>0.754238</td>\n",
       "    </tr>\n",
       "    <tr>\n",
       "      <th>38824</th>\n",
       "      <td>time</td>\n",
       "      <td>0.750313</td>\n",
       "    </tr>\n",
       "    <tr>\n",
       "      <th>39639</th>\n",
       "      <td>tried</td>\n",
       "      <td>0.743035</td>\n",
       "    </tr>\n",
       "    <tr>\n",
       "      <th>4245</th>\n",
       "      <td>beautiful</td>\n",
       "      <td>0.737676</td>\n",
       "    </tr>\n",
       "    <tr>\n",
       "      <th>34694</th>\n",
       "      <td>shopping</td>\n",
       "      <td>0.721346</td>\n",
       "    </tr>\n",
       "    <tr>\n",
       "      <th>18053</th>\n",
       "      <td>home</td>\n",
       "      <td>0.705699</td>\n",
       "    </tr>\n",
       "    <tr>\n",
       "      <th>31810</th>\n",
       "      <td>remember</td>\n",
       "      <td>0.694594</td>\n",
       "    </tr>\n",
       "    <tr>\n",
       "      <th>33478</th>\n",
       "      <td>say</td>\n",
       "      <td>0.684072</td>\n",
       "    </tr>\n",
       "    <tr>\n",
       "      <th>42060</th>\n",
       "      <td>way</td>\n",
       "      <td>0.665060</td>\n",
       "    </tr>\n",
       "    <tr>\n",
       "      <th>45247</th>\n",
       "      <td>tumblr</td>\n",
       "      <td>0.646525</td>\n",
       "    </tr>\n",
       "    <tr>\n",
       "      <th>16885</th>\n",
       "      <td>guys</td>\n",
       "      <td>0.609189</td>\n",
       "    </tr>\n",
       "    <tr>\n",
       "      <th>44354</th>\n",
       "      <td>gaming</td>\n",
       "      <td>0.595177</td>\n",
       "    </tr>\n",
       "    <tr>\n",
       "      <th>6518</th>\n",
       "      <td>cart</td>\n",
       "      <td>0.516526</td>\n",
       "    </tr>\n",
       "    <tr>\n",
       "      <th>44167</th>\n",
       "      <td>ddlc</td>\n",
       "      <td>0.514502</td>\n",
       "    </tr>\n",
       "    <tr>\n",
       "      <th>3203</th>\n",
       "      <td>art</td>\n",
       "      <td>0.512958</td>\n",
       "    </tr>\n",
       "    <tr>\n",
       "      <th>26881</th>\n",
       "      <td>oc</td>\n",
       "      <td>0.511532</td>\n",
       "    </tr>\n",
       "    <tr>\n",
       "      <th>15131</th>\n",
       "      <td>future</td>\n",
       "      <td>0.501968</td>\n",
       "    </tr>\n",
       "    <tr>\n",
       "      <th>16083</th>\n",
       "      <td>good</td>\n",
       "      <td>0.481357</td>\n",
       "    </tr>\n",
       "    <tr>\n",
       "      <th>44335</th>\n",
       "      <td>funny</td>\n",
       "      <td>0.461533</td>\n",
       "    </tr>\n",
       "    <tr>\n",
       "      <th>38718</th>\n",
       "      <td>til</td>\n",
       "      <td>0.436089</td>\n",
       "    </tr>\n",
       "    <tr>\n",
       "      <th>44696</th>\n",
       "      <td>memes</td>\n",
       "      <td>0.362024</td>\n",
       "    </tr>\n",
       "    <tr>\n",
       "      <th>43909</th>\n",
       "      <td>aww</td>\n",
       "      <td>0.268724</td>\n",
       "    </tr>\n",
       "  </tbody>\n",
       "</table>\n",
       "<p>45360 rows × 2 columns</p>\n",
       "</div>"
      ],
      "text/plain": [
       "                 attributes     coeff\n",
       "                          0         0\n",
       "44965               roastme  9.743455\n",
       "4                    locked  8.458655\n",
       "44071       choosingbeggars  7.841628\n",
       "44663               mapporn  7.730517\n",
       "45266      unpopularopinion  7.464310\n",
       "1993                 advice  6.020257\n",
       "4947                  bless  5.616462\n",
       "44319            fortnitebr  5.556610\n",
       "44694           memeeconomy  5.456018\n",
       "44782              nintendo  5.078307\n",
       "44259                europe  4.861763\n",
       "43884             askreddit  4.801320\n",
       "44481         iamverybadass  4.605118\n",
       "6384                    car  4.399670\n",
       "44724                   mma  4.296571\n",
       "42753                 woman  4.196522\n",
       "44903           programming  3.945319\n",
       "4038                   barr  3.868257\n",
       "43888              askwomen  3.717675\n",
       "39688        trinity mobile  3.660916\n",
       "44134        cryptocurrency  3.633229\n",
       "44528               ireland  3.554978\n",
       "35369                 smash  3.513027\n",
       "44652               madlads  3.464141\n",
       "17440                  hear  3.409254\n",
       "44910       pubattlegrounds  3.379073\n",
       "5633                britain  3.324158\n",
       "14732              fox news  3.227580\n",
       "22616                  logo  3.223740\n",
       "21852                   lie  3.204521\n",
       "...                     ...       ...\n",
       "9675                    day  0.865003\n",
       "27417                orange  0.863824\n",
       "3853                    bad  0.851666\n",
       "4480                   best  0.847941\n",
       "44172        deepfriedmemes  0.843883\n",
       "31197                  real  0.837193\n",
       "29506                  post  0.819798\n",
       "45335             worldnews  0.810027\n",
       "44861  pewdiepiesubmissions  0.754238\n",
       "38824                  time  0.750313\n",
       "39639                 tried  0.743035\n",
       "4245              beautiful  0.737676\n",
       "34694              shopping  0.721346\n",
       "18053                  home  0.705699\n",
       "31810              remember  0.694594\n",
       "33478                   say  0.684072\n",
       "42060                   way  0.665060\n",
       "45247                tumblr  0.646525\n",
       "16885                  guys  0.609189\n",
       "44354                gaming  0.595177\n",
       "6518                   cart  0.516526\n",
       "44167                  ddlc  0.514502\n",
       "3203                    art  0.512958\n",
       "26881                    oc  0.511532\n",
       "15131                future  0.501968\n",
       "16083                  good  0.481357\n",
       "44335                 funny  0.461533\n",
       "38718                   til  0.436089\n",
       "44696                 memes  0.362024\n",
       "43909                   aww  0.268724\n",
       "\n",
       "[45360 rows x 2 columns]"
      ]
     },
     "execution_count": 158,
     "metadata": {},
     "output_type": "execute_result"
    }
   ],
   "source": [
    "exp_coeff = pd.concat([pd.Series(full_attribute_set),\n",
    "                       pd.DataFrame(np.exp(lr_3.coef_)).T],\n",
    "                     axis=1,\n",
    "                     keys=['attributes', 'coeff'])\n",
    "exp_coeff.sort_values([('coeff', 0)], ascending=False, inplace=True)\n",
    "exp_coeff"
   ]
  },
  {
   "cell_type": "markdown",
   "metadata": {},
   "source": [
    "### I started this project with a Regression model because your *baseline model should always be a regression*. Seriously, regressions are the best. It isn't even a competition.\n",
    "\n",
    "#### That being said, I did a RandomForest in another notebook, titled Random Forest Notebook, too look at numeric and boolean output."
   ]
  }
 ],
 "metadata": {
  "kernelspec": {
   "display_name": "Python 3",
   "language": "python",
   "name": "python3"
  },
  "language_info": {
   "codemirror_mode": {
    "name": "ipython",
    "version": 3
   },
   "file_extension": ".py",
   "mimetype": "text/x-python",
   "name": "python",
   "nbconvert_exporter": "python",
   "pygments_lexer": "ipython3",
   "version": "3.6.5"
  }
 },
 "nbformat": 4,
 "nbformat_minor": 2
}
